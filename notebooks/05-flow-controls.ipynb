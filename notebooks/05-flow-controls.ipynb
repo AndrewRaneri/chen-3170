{
 "cells": [
  {
   "cell_type": "markdown",
   "metadata": {},
   "source": [
    "ChEn-3170: Computational Methods in Chemical Engineering Spring 2020 UMass Lowell; Prof. V. F. de Almeida **28Jan20**\n",
    "\n",
    "# 05. Basic Flow Controls in Python\n",
    "$  \n",
    "  \\newcommand{\\Amtrx}{\\boldsymbol{\\mathsf{A}}}\n",
    "  \\newcommand{\\Bmtrx}{\\boldsymbol{\\mathsf{B}}}\n",
    "  \\newcommand{\\Mmtrx}{\\boldsymbol{\\mathsf{M}}}\n",
    "  \\newcommand{\\Imtrx}{\\boldsymbol{\\mathsf{I}}}\n",
    "  \\newcommand{\\Pmtrx}{\\boldsymbol{\\mathsf{P}}}\n",
    "  \\newcommand{\\Lmtrx}{\\boldsymbol{\\mathsf{L}}}\n",
    "  \\newcommand{\\Umtrx}{\\boldsymbol{\\mathsf{U}}}\n",
    "  \\newcommand{\\xvec}{\\boldsymbol{\\mathsf{x}}}\n",
    "  \\newcommand{\\avec}{\\boldsymbol{\\mathsf{a}}}\n",
    "  \\newcommand{\\bvec}{\\boldsymbol{\\mathsf{b}}}\n",
    "  \\newcommand{\\cvec}{\\boldsymbol{\\mathsf{c}}}\n",
    "  \\newcommand{\\rvec}{\\boldsymbol{\\mathsf{r}}}\n",
    "  \\newcommand{\\norm}[1]{\\bigl\\lVert{#1}\\bigr\\rVert}\n",
    "  \\DeclareMathOperator{\\rank}{rank}\n",
    "$"
   ]
  },
  {
   "cell_type": "markdown",
   "metadata": {},
   "source": [
    "---\n",
    "## Table of Contents\n",
    "* [Objectives](#obj)\n",
    "* [Modules](#modules)\n",
    "* [Conditionals](#conditionals)\n",
    " + [Assert](#assert)\n",
    " + [If](#if)\n",
    "* [Loops](#loops)\n",
    " + [For](#for)\n",
    " + [While](#while)\n",
    "* [Functions](#functions)\n",
    " + [Example:](#get_triangular_matrix) get triangular matrix\n",
    " + [Example:](#forward_solve) foward substitution solve\n",
    "* [Input/Output](#io)\n",
    " + [Read \"text\"](#itext)\n",
    "---"
   ]
  },
  {
   "cell_type": "markdown",
   "metadata": {},
   "source": [
    "## Objectives<a id=\"obj\"></a>\n",
    "\n",
    " + Describe a variety of controls used to manipulate the execution of a Python program in this course."
   ]
  },
  {
   "cell_type": "markdown",
   "metadata": {},
   "source": [
    "## Modules<a id=\"modules\"></a>\n",
    "We have been using `import` packages into the Python notebook (*e.g* `import numpy as np`). We can use this to simplify our future coding experience and accelerate learning. For instance, we can use import of our own codes. In this course a directory named `chen_3170` was created in the [repository](https://github.com/dpploy/chen-3170) file system to store course-related Python code. The syntax to import codes in the repository is as follows:"
   ]
  },
  {
   "cell_type": "code",
   "execution_count": 1,
   "metadata": {},
   "outputs": [
    {
     "name": "stdout",
     "output_type": "stream",
     "text": [
      "Help on package chen_3170:\n",
      "\n",
      "NAME\n",
      "    chen_3170\n",
      "\n",
      "PACKAGE CONTENTS\n",
      "    help\n",
      "    toolkit\n",
      "\n",
      "FILE\n",
      "    (built-in)\n",
      "\n",
      "\n"
     ]
    }
   ],
   "source": [
    "'''To view what is available'''\n",
    "\n",
    "import chen_3170\n",
    "help(chen_3170)"
   ]
  },
  {
   "cell_type": "code",
   "execution_count": null,
   "metadata": {
    "scrolled": true
   },
   "outputs": [],
   "source": [
    "'''Check individual packages'''\n",
    "\n",
    "import chen_3170.help\n",
    "help(chen_3170.help)"
   ]
  },
  {
   "cell_type": "code",
   "execution_count": 3,
   "metadata": {},
   "outputs": [
    {
     "name": "stdout",
     "output_type": "stream",
     "text": [
      "Help on function get_triangular_matrix in module chen_3170.help:\n",
      "\n",
      "get_triangular_matrix(mode='lower', ndim=None, mtrx=None)\n",
      "    Returns a triangular matrix in-place.\n",
      "    \n",
      "    If a matrix is given, the function will modify the input, in place, into a\n",
      "    triangular matrix. The mtrx object will be modified and reflected on the callee side.\n",
      "    Otherwise, the function generates a random triangular matrix.\n",
      "    \n",
      "    Parameters\n",
      "    ----------\n",
      "    mode: string, optional\n",
      "          Type of triangular matrix: 'lower' or 'upper'. Defaults to lower\n",
      "          triangular.\n",
      "    ndim: int, optional\n",
      "          Dimension of the square matrix. If a matrix is not provided this\n",
      "          argument is required.\n",
      "    mtrx: numpy.ndarray, optional\n",
      "          square matrix to be turned into a triangular matrix.\n",
      "    \n",
      "    Returns\n",
      "    -------\n",
      "    mtrx: numpy.ndarray\n",
      "          If a matrix was not passed the return is random array. If a matrix\n",
      "          was passed, its view is modified.\n",
      "    \n",
      "    Examples\n",
      "    --------\n",
      "    \n",
      "    >>> a_mtrx = ce.get_triangular_matrx('lower',3)\n",
      "    >>> a_mtrx\n",
      "    array([[0.38819556, 0.    , 0.        ],\n",
      "       [0.12304746, 0.07522054, 0.        ],\n",
      "       [0.96357929, 0.69187941, 0.2878785 ]])\n",
      "\n"
     ]
    }
   ],
   "source": [
    "'''Import the get_triangular_matrix function'''\n",
    "\n",
    "from chen_3170.help import get_triangular_matrix\n",
    "\n",
    "help(get_triangular_matrix)"
   ]
  },
  {
   "cell_type": "code",
   "execution_count": 4,
   "metadata": {},
   "outputs": [
    {
     "name": "stdout",
     "output_type": "stream",
     "text": [
      "a_mtrx =\n",
      " [[0.32029876 0.         0.         0.         0.        ]\n",
      " [0.49546519 0.24867136 0.         0.         0.        ]\n",
      " [0.15278621 0.36610871 0.87843842 0.         0.        ]\n",
      " [0.84516433 0.41680356 0.04559272 0.28946761 0.        ]\n",
      " [0.78632449 0.93927484 0.73786317 0.67800487 0.64362929]]\n",
      "a_mtrx =\n",
      " [[0.80322014 0.40249634 0.07637611 0.64723307 0.37130466]\n",
      " [0.         0.39341604 0.80881303 0.60222004 0.51334212]\n",
      " [0.         0.         0.94334123 0.26614127 0.10038501]\n",
      " [0.         0.         0.         0.23777117 0.75575458]\n",
      " [0.         0.         0.         0.         0.01170546]]\n",
      "ones_mtrx =\n",
      " [[1. 1. 1. 1. 1.]\n",
      " [1. 1. 1. 1. 1.]\n",
      " [1. 1. 1. 1. 1.]\n",
      " [1. 1. 1. 1. 1.]\n",
      " [1. 1. 1. 1. 1.]]\n",
      "a_mtrx =\n",
      " [[1. 0. 0. 0. 0.]\n",
      " [1. 1. 0. 0. 0.]\n",
      " [1. 1. 1. 0. 0.]\n",
      " [1. 1. 1. 1. 0.]\n",
      " [1. 1. 1. 1. 1.]]\n"
     ]
    }
   ],
   "source": [
    "'''Practice using the function'''\n",
    "\n",
    "a_mtrx = get_triangular_matrix('lower',5) # lower triangular random matrix 5 x 5\n",
    "print('a_mtrx =\\n',a_mtrx)\n",
    "\n",
    "a_mtrx = get_triangular_matrix('upper',5) # upper triangular random matrix 5 x 5\n",
    "print('a_mtrx =\\n',a_mtrx)\n",
    "\n",
    "import numpy as np\n",
    "ones_mtrx = np.ones((5,5))\n",
    "print('ones_mtrx =\\n',ones_mtrx)\n",
    "\n",
    "a_mtrx = get_triangular_matrix('lower',mtrx=ones_mtrx)\n",
    "print('a_mtrx =\\n',a_mtrx)"
   ]
  },
  {
   "cell_type": "markdown",
   "metadata": {},
   "source": [
    "<div class=\"alert alert-block alert-warning\">\n",
    "The source code should be inspected for correctness and as a source of information for future programing. This is how the source code can be viewed and copied to a notebook cell.\n",
    "</div>"
   ]
  },
  {
   "cell_type": "code",
   "execution_count": null,
   "metadata": {
    "scrolled": false
   },
   "outputs": [],
   "source": [
    "'''View the source code in the notebook'''\n",
    "\n",
    "!cat \"chen_3170/help.py\" # ugly but works for now"
   ]
  },
  {
   "cell_type": "markdown",
   "metadata": {},
   "source": [
    "Copying the source code to this cell and rendering it with code fences gives:\n",
    "\n",
    "```python\n",
    "def get_triangular_matrix( mode='lower', ndim=None, mtrx=None ):\n",
    "    '''\n",
    "    Returns a triangular matrix in-place.\n",
    "\n",
    "    If a matrix is given, the function will modify the input, in place, into a \n",
    "    triangular matrix. The mtrx object will be modified and reflected on the callee side.\n",
    "    Otherwise, the function generates a random triangular matrix.\n",
    "\n",
    "    Parameters\n",
    "    ----------\n",
    "    mode: string, optional\n",
    "          Type of triangular matrix: 'lower' or 'upper'. Defaults to lower \n",
    "          triangular.\n",
    "    ndim: int, optional\n",
    "          Dimension of the square matrix. If a matrix is not provided this \n",
    "          argument is required. \n",
    "    mtrx: numpy.ndarray, optional\n",
    "          square matrix to be turned into a triangular matrix.\n",
    "    \n",
    "    Returns\n",
    "    -------\n",
    "    mtrx: numpy.ndarray\n",
    "          If a matrix was not passed the return is random array. If a matrix\n",
    "          was passed, its view is modified.\n",
    "\n",
    "    Examples\n",
    "    --------\n",
    "\n",
    "    >>> a_mtrx = ce.get_triangular_matrx('lower',3)\n",
    "    >>> a_mtrx\n",
    "    array([[0.38819556, 0.    , 0.        ],\n",
    "       [0.12304746, 0.07522054, 0.        ],\n",
    "       [0.96357929, 0.69187941, 0.2878785 ]])\n",
    "\n",
    "    '''\n",
    "\n",
    "    assert ndim is None or mtrx is None, 'ndim or mtrx must be given; not both.'\n",
    "    assert not (ndim is None and mtrx is None), 'either ndim or mtrx must be given.'\n",
    "    assert mode =='lower' or mode =='upper', 'invalid mode %r.'%mode\n",
    "    \n",
    "    if mtrx is None:\n",
    "        import numpy as np\n",
    "        mtrx = np.random.random((ndim,ndim))\n",
    "    else:\n",
    "        assert mtrx.shape[0] == mtrx.shape[1], 'matrix not square.' \n",
    "    \n",
    "    # ready to return matrix  \n",
    "    if mode == 'lower':\n",
    "        for i in range(mtrx.shape[0]):\n",
    "            mtrx[i,i+1:] = 0.0\n",
    "    elif mode == 'upper':\n",
    "        for j in range(mtrx.shape[1]):\n",
    "            mtrx[j+1:,j] = 0.0\n",
    "    else:\n",
    "        assert False, 'oops. something is very wrong.'\n",
    "\n",
    "    return mtrx      \n",
    "```"
   ]
  },
  {
   "cell_type": "markdown",
   "metadata": {},
   "source": [
    "## Conditionals<a id=\"conditionals\"></a>\n",
    "Constructs that allow branching of operations. The most importants are:\n",
    " 1. `assert` statement\n",
    " 1. `if` statement"
   ]
  },
  {
   "cell_type": "markdown",
   "metadata": {},
   "source": [
    "### `Assert` statement<a id=\"assert\"></a>\n",
    "The general format is:\n",
    "```python\n",
    "    assert test, string(formatted)\n",
    "```\n",
    "and it tests for whether `test` is `True`."
   ]
  },
  {
   "cell_type": "markdown",
   "metadata": {},
   "source": [
    "### Examples\n",
    "```python\n",
    "    assert ndim is None or mtrx is None, 'ndim or mtrx must be given; not both.'\n",
    "    assert not (ndim is None and mtrx is None), 'either ndim or mtrx must be given.'\n",
    "    assert mode =='lower' or mode =='upper', 'invalid mode %r.'%mode\n",
    "```"
   ]
  },
  {
   "cell_type": "code",
   "execution_count": 5,
   "metadata": {},
   "outputs": [],
   "source": [
    "'''Testing examples'''\n",
    "\n",
    "import numpy as np\n",
    "\n",
    "mode = 'lower'\n",
    "ndim = None\n",
    "ndim = 1\n",
    "mtrx = np.random.random((3,4))\n",
    "\n",
    "#assert ndim is None or mtrx is None, 'eithe ndim or mtrx must be given; not both'\n",
    "\n",
    "#mtrx = None\n",
    "assert not (ndim is None and mtrx is None), 'either ndim or mtrx must be given.'\n",
    "\n",
    "#mode = 'dontknow'\n",
    "assert mode =='lower' or mode =='upper', 'invalid mode %r.'%mode"
   ]
  },
  {
   "cell_type": "markdown",
   "metadata": {},
   "source": [
    "### `If` statement<a id='if'></a>\n",
    "The general format is:\n",
    "```python\n",
    "if test1:        # if test\n",
    "    statements1  # associated block\n",
    "elif test2:      # optional elifs\n",
    "    statements2\n",
    "elif test3:      # more optional elifs etc.\n",
    "    statements3\n",
    "else:            # optional final else\n",
    "    statements4\n",
    "```"
   ]
  },
  {
   "cell_type": "markdown",
   "metadata": {},
   "source": [
    "### Example\n",
    "If-else example:\n",
    "```python\n",
    "    if mtrx is None:      # test if mtrx has type None\n",
    "        import numpy as np\n",
    "        mtrx = np.random.random((n,n))  # associated block\n",
    "    else:                 # final test\n",
    "        assert mtrx.shape[0] == mtrx.shape[1] # l_mtrx must be square\n",
    "```"
   ]
  },
  {
   "cell_type": "code",
   "execution_count": 6,
   "metadata": {},
   "outputs": [
    {
     "name": "stdout",
     "output_type": "stream",
     "text": [
      "[[ 3.4  2.1  4.5]\n",
      " [ 0.   2.   1. ]\n",
      " [-1.  -3.  -5. ]]\n"
     ]
    }
   ],
   "source": [
    "'''Testing example'''\n",
    "\n",
    "test = 3 # change this to 1, 2 or 3\n",
    "\n",
    "# test setup (uses multiway branching)\n",
    "if test == 1:\n",
    "    mtrx = None\n",
    "    n = 4\n",
    "elif test == 2:\n",
    "    import numpy as np\n",
    "    mtrx = np.array( [ [3.4, 2.1, 4.5],\n",
    "                       [0.0, 2.0, 1.0] \n",
    "                     ] )\n",
    "elif test == 3:\n",
    "    import numpy as np\n",
    "    mtrx = np.array( [ [ 3.4,  2.1,  4.5],\n",
    "                       [ 0.0,  2.0,  1.0],\n",
    "                       [-1.0, -3.0, -5.0]\n",
    "                     ] )\n",
    "else:\n",
    "    assert False,'test must be 1, 2, or 3.'\n",
    "\n",
    "# What we are really testing\n",
    "#---------------------------------------------------------------    \n",
    "if mtrx is None:      # test if mtrx has type None\n",
    "    import numpy as np\n",
    "    mtrx = np.random.random((n,n))  # associated block\n",
    "else:                 # final test\n",
    "    assert mtrx.shape[0] == mtrx.shape[1],'matrix not square.'\n",
    "#---------------------------------------------------------------\n",
    "    \n",
    "print(mtrx)"
   ]
  },
  {
   "cell_type": "markdown",
   "metadata": {},
   "source": [
    "### Example\n",
    "Multiway branching example:\n",
    "```python\n",
    "    # ready to return matrix  \n",
    "    if mode == 'lower':                 # test if mode is 'lower'\n",
    "        for i in range(mtrx.shape[0]):  # associated block of statements\n",
    "            mtrx[i,i+1:] = 0.0\n",
    "    elif mode == 'upper':               # test if mode is 'upper'\n",
    "        for j in range(mtrx.shape[1]):  # associated block of statements\n",
    "            mtrx[j+1:,j] = 0.0\n",
    "    else:                               # final test\n",
    "        assert False, 'oops. something is very wrong.' # associated block\n",
    "```"
   ]
  },
  {
   "cell_type": "code",
   "execution_count": 7,
   "metadata": {},
   "outputs": [
    {
     "name": "stdout",
     "output_type": "stream",
     "text": [
      "[[ 3.4  0.   0. ]\n",
      " [ 0.   2.   0. ]\n",
      " [-1.  -3.  -5. ]]\n"
     ]
    }
   ],
   "source": [
    "'''Testing example'''\n",
    "\n",
    "import numpy as np\n",
    "test = 1  # change this to 1 or 2\n",
    "\n",
    "mtrx = np.array([[ 3.4,  2.1,  4.5],\n",
    "                 [ 0.0,  2.0,  1.0],\n",
    "                 [-1.0, -3.0, -5.0]\n",
    "                ])\n",
    "# test setup (uses multiway branching)\n",
    "if test == 1:\n",
    "    mode = 'lower'\n",
    "    \n",
    "elif test == 2:\n",
    "    mode = 'upper'\n",
    "else:\n",
    "    assert False,'test must be 1 or 2.'\n",
    "    \n",
    "# What we are really testing\n",
    "#---------------------------------------------------------------    \n",
    "# ready to return matrix  \n",
    "if mode == 'lower':                 # test if mode is 'lower'\n",
    "    for i in range(mtrx.shape[0]):  # associated block of statements\n",
    "            mtrx[i,i+1:] = 0.0\n",
    "elif mode == 'upper':               # test if mode is 'upper'\n",
    "    for j in range(mtrx.shape[1]):  # associated block of statements\n",
    "        mtrx[j+1:,j] = 0.0\n",
    "else:                               # final test\n",
    "    assert False, 'oops. something is very wrong.' # associated block\n",
    "#---------------------------------------------------------------\n",
    "    \n",
    "print(mtrx)"
   ]
  },
  {
   "cell_type": "markdown",
   "metadata": {},
   "source": [
    "## Loops<a id=\"loops\"></a>\n",
    "Contructs that allow repetitive actions on data. There are two basic types: \n",
    " 1. `for` loops\n",
    " 2. `while` loops"
   ]
  },
  {
   "cell_type": "markdown",
   "metadata": {},
   "source": [
    "### `For` loops<a id='for'></a>\n",
    "The general format is:\n",
    "```python\n",
    "for target in object: # assign object items to target\n",
    "    statements        # repeated loop body: (possibly) use target\n",
    "    if test: \n",
    "        break         # exit loop now; skip else\n",
    "    if test: \n",
    "        continue      # go to top of the loop now\n",
    "else:                 # optional else part\n",
    "    statements        # if did not hit a `break`\n",
    "```"
   ]
  },
  {
   "cell_type": "markdown",
   "metadata": {},
   "source": [
    "### Example\n",
    "```python\n",
    "for i in range(mtrx.shape[0]): # assign i to objects in range(mtrx.shape[0])\n",
    "    mtrx[i,i+1:] = 0.0         # loop over this statement with varying i\n",
    "```"
   ]
  },
  {
   "cell_type": "code",
   "execution_count": 8,
   "metadata": {},
   "outputs": [
    {
     "name": "stdout",
     "output_type": "stream",
     "text": [
      "[[0.2444724  0.2083957  0.56302892 0.30498415 0.57955505]\n",
      " [0.49381782 0.04769136 0.5445589  0.29788889 0.02961936]\n",
      " [0.60831477 0.35580501 0.25503186 0.31375166 0.0086011 ]\n",
      " [0.26426191 0.21343588 0.72871477 0.72227452 0.60025511]\n",
      " [0.2614883  0.68339246 0.2534688  0.93524169 0.47789712]]\n",
      "i = 0\n",
      "i = 1\n",
      "i = 2\n",
      "i = 3\n",
      "i = 4\n",
      "[[0.2444724  0.         0.         0.         0.        ]\n",
      " [0.49381782 0.04769136 0.         0.         0.        ]\n",
      " [0.60831477 0.35580501 0.25503186 0.         0.        ]\n",
      " [0.26426191 0.21343588 0.72871477 0.72227452 0.        ]\n",
      " [0.2614883  0.68339246 0.2534688  0.93524169 0.47789712]]\n"
     ]
    }
   ],
   "source": [
    "'''Testing example'''\n",
    "\n",
    "import numpy as np\n",
    "\n",
    "mtrx = np.random.random((5,5))\n",
    "print(mtrx)\n",
    "\n",
    "m_rows = mtrx.shape[0]\n",
    "\n",
    "for i in range(m_rows):  # assign i to objects in range(m_rows)\n",
    "    print('i =',i)\n",
    "    mtrx[i,i+1:] = 0.0  \n",
    "    \n",
    "print(mtrx)"
   ]
  },
  {
   "cell_type": "code",
   "execution_count": null,
   "metadata": {},
   "outputs": [],
   "source": [
    "'''TODO: describe zip()'''"
   ]
  },
  {
   "cell_type": "markdown",
   "metadata": {},
   "source": [
    "### `While` loops\n",
    "We will revisit this when we need this construct."
   ]
  },
  {
   "cell_type": "markdown",
   "metadata": {},
   "source": [
    "## Functions<a id=\"functions\"></a>\n",
    "In simple terms, functions are an efficient alternative to *cutting and pasting* code. They increase code reuse, allow for modularity, and are indispensible to software/code design. An initial format of the functions we will use is:\n",
    "```python\n",
    "def name(arg1, arg2,... argN):\n",
    "    statements\n",
    "    ...\n",
    "    statements\n",
    "    return result # optional but almost always present\n",
    "```\n",
    "The function block has its own scope and no variable name is accessible inside the function unless it is passed through the argument list."
   ]
  },
  {
   "cell_type": "markdown",
   "metadata": {},
   "source": [
    "### Example<a id=\"get_triangular_matrix\"></a>\n",
    "```python\n",
    "def get_triangular_matrix( mode='lower', ndim=None, mtrx=None ):\n",
    "\n",
    "    assert ndim is None or mtrx is None, 'ndim or mtrx must be given; not both.'\n",
    "    assert mode =='lower' or mode =='upper', 'invalid mode %r.'%mode\n",
    "    \n",
    "    if mtrx is None:\n",
    "        import numpy as np\n",
    "        mtrx = np.random.random((ndim,ndim))\n",
    "    else:\n",
    "        assert mtrx.shape[0] == mtrx.shape[1], 'matrix not square.' \n",
    "    \n",
    "    # ready to return matrix  \n",
    "    if mode == 'lower':\n",
    "        for i in range(mtrx.shape[0]):\n",
    "            mtrx[i,i+1:] = 0.0\n",
    "    elif mode == 'upper':\n",
    "        for j in range(mtrx.shape[1]):\n",
    "            mtrx[j+1:,j] = 0.0\n",
    "    else:\n",
    "        assert False, 'oops. something is very wrong.'\n",
    "        \n",
    "    return mtrx     \n",
    "```"
   ]
  },
  {
   "cell_type": "code",
   "execution_count": 9,
   "metadata": {},
   "outputs": [],
   "source": [
    "'''Testing the example'''\n",
    "\n",
    "import numpy as np\n",
    "np.set_printoptions(precision=3) \n",
    "\n",
    "# no arguments will fail\n",
    "#a_mtrx = get_triangular_matrix()"
   ]
  },
  {
   "cell_type": "code",
   "execution_count": 10,
   "metadata": {},
   "outputs": [
    {
     "name": "stdout",
     "output_type": "stream",
     "text": [
      "out_mtrx =\n",
      " [[0.982 0.    0.    0.    0.   ]\n",
      " [0.242 0.828 0.    0.    0.   ]\n",
      " [0.718 0.015 0.806 0.    0.   ]\n",
      " [0.409 0.343 0.043 0.356 0.   ]\n",
      " [0.802 0.621 0.857 0.708 0.577]]\n"
     ]
    }
   ],
   "source": [
    "'''Testing the example'''\n",
    "\n",
    "# one-argument call\n",
    "size = 5\n",
    "out_mtrx = get_triangular_matrix(ndim=size)\n",
    "print('out_mtrx =\\n',out_mtrx)"
   ]
  },
  {
   "cell_type": "code",
   "execution_count": 11,
   "metadata": {},
   "outputs": [
    {
     "name": "stdout",
     "output_type": "stream",
     "text": [
      "out_mtrx =\n",
      " [[0.374 0.    0.    0.    0.   ]\n",
      " [0.422 0.711 0.    0.    0.   ]\n",
      " [0.056 0.894 0.152 0.    0.   ]\n",
      " [0.326 0.561 0.721 0.418 0.   ]\n",
      " [0.826 0.713 0.083 0.155 0.35 ]]\n"
     ]
    }
   ],
   "source": [
    "'''Testing the example'''\n",
    "\n",
    "# one-argument call\n",
    "in_mtrx = np.random.random((size,size))\n",
    "out_mtrx = get_triangular_matrix(mtrx=in_mtrx)\n",
    "print('out_mtrx =\\n',out_mtrx)"
   ]
  },
  {
   "cell_type": "code",
   "execution_count": 12,
   "metadata": {},
   "outputs": [
    {
     "data": {
      "text/plain": [
       "'Testing the example'"
      ]
     },
     "execution_count": 12,
     "metadata": {},
     "output_type": "execute_result"
    }
   ],
   "source": [
    "'''Testing the example'''\n",
    "\n",
    "# two-argument conflicting call will fail\n",
    "#out_mtrx = get_triangular_matrix(ndim=size, mtrx=in_mtrx)"
   ]
  },
  {
   "cell_type": "code",
   "execution_count": 13,
   "metadata": {},
   "outputs": [
    {
     "name": "stdout",
     "output_type": "stream",
     "text": [
      "in_mtrx before =\n",
      " [[0.257 0.389 0.169 0.277 0.016]\n",
      " [0.149 0.029 0.79  0.238 0.024]\n",
      " [0.694 0.128 0.581 0.821 0.784]\n",
      " [0.686 0.623 0.973 0.827 0.41 ]\n",
      " [0.945 0.539 0.089 0.43  0.146]]\n",
      "in_mtrx after =\n",
      " [[0.257 0.    0.    0.    0.   ]\n",
      " [0.149 0.029 0.    0.    0.   ]\n",
      " [0.694 0.128 0.581 0.    0.   ]\n",
      " [0.686 0.623 0.973 0.827 0.   ]\n",
      " [0.945 0.539 0.089 0.43  0.146]]\n",
      "out_mtrx =\n",
      " [[0.257 0.    0.    0.    0.   ]\n",
      " [0.149 0.029 0.    0.    0.   ]\n",
      " [0.694 0.128 0.581 0.    0.   ]\n",
      " [0.686 0.623 0.973 0.827 0.   ]\n",
      " [0.945 0.539 0.089 0.43  0.146]]\n"
     ]
    }
   ],
   "source": [
    "'''Testing the example'''\n",
    "\n",
    "# passing argument by object reference\n",
    "in_mtrx = np.random.random((size,size))\n",
    "print('in_mtrx before =\\n',in_mtrx)\n",
    "\n",
    "out_mtrx = get_triangular_matrix(mtrx=in_mtrx)\n",
    "\n",
    "print('in_mtrx after =\\n',in_mtrx)\n",
    "print('out_mtrx =\\n',out_mtrx)"
   ]
  },
  {
   "cell_type": "markdown",
   "metadata": {},
   "source": [
    "### Example: forward substitution solve<a id=\"forward_solve\"></a>\n",
    " + Import module as described [before.](#modules)\n",
    " + `!cat` the `chen_3170/help.py` file to get the source code for the `forward_solve` function. Then copy into the a markdown cell and add a code fence block to display the source code."
   ]
  },
  {
   "cell_type": "code",
   "execution_count": 14,
   "metadata": {},
   "outputs": [
    {
     "name": "stdout",
     "output_type": "stream",
     "text": [
      "Help on function forward_solve in module chen_3170.help:\n",
      "\n",
      "forward_solve(l_mtrx, b_vec, loop_option='use-dot-product')\n",
      "    Performs a forward solve with a lower triangular matrix and right side vector.\n",
      "    \n",
      "    Parameters\n",
      "    ----------\n",
      "    l_mtrx: numpy.ndarray, required\n",
      "            Lower triangular matrix.\n",
      "    b_vec:  numpy.ndarray, required\n",
      "            Right-side vector.\n",
      "    loop_option: string, optional\n",
      "            This is an internal option to demonstrate the usage of an explicit\n",
      "            double loop or an implicit loop using a dot product.\n",
      "            Default: 'use-dot-product'\n",
      "    \n",
      "    Returns\n",
      "    -------\n",
      "    x_vec: numpy.narray\n",
      "           Solution vector returned.\n",
      "    \n",
      "    Examples\n",
      "    --------\n",
      "\n"
     ]
    }
   ],
   "source": [
    "'''Import module'''\n",
    "\n",
    "from chen_3170.help import forward_solve\n",
    "help(forward_solve)"
   ]
  },
  {
   "cell_type": "code",
   "execution_count": null,
   "metadata": {},
   "outputs": [],
   "source": [
    "'''View the source code in the notebook'''\n",
    "\n",
    "!cat \"chen_3170/help.py\" # ugly but works for now"
   ]
  },
  {
   "cell_type": "markdown",
   "metadata": {},
   "source": [
    "```python\n",
    " def forward_solve(l_mtrx, b_vec, loop_option='use-dot-product'):\n",
    "    '''\n",
    "    Performs a forward solve with a lower triangular matrix and right side vector.\n",
    "    \n",
    "    Parameters\n",
    "    ----------\n",
    "    l_mtrx: numpy.ndarray, required\n",
    "            Lower triangular matrix.\n",
    "    b_vec:  numpy.ndarray, required\n",
    "            Right-side vector.\n",
    "    loop_option: string, optional\n",
    "            This is an internal option to demonstrate the usage of an explicit \n",
    "            double loop or an implicit loop using a dot product. \n",
    "            Default: 'use-dot-product'\n",
    "            \n",
    "    Returns\n",
    "    -------\n",
    "    x_vec: numpy.narray\n",
    "           Solution vector returned.\n",
    "           \n",
    "    Examples\n",
    "    --------\n",
    "    \n",
    "    '''        \n",
    "    import numpy as np\n",
    "    \n",
    "    # sanity test\n",
    "    assert isinstance(l_mtrx,np.ndarray)      # l_mtrx must be np.ndarray\n",
    "    assert l_mtrx.shape[0] == l_mtrx.shape[1],'non-square matrix.' # l_mtrx must be square\n",
    "    assert np.all(np.abs(np.diagonal(l_mtrx)) > 0.0),'zero value on diagonal.'\n",
    "    rows_ids, cols_ids = np.where(np.abs(l_mtrx) > 0) # get i, j of non zero entries\n",
    "    assert np.all(rows_ids >= cols_ids),'non-triangular matrix.' # test i >= j\n",
    "    assert b_vec.shape[0] == l_mtrx.shape[0],'incompatible l_mtrx @ b_vec dimensions'  # b_vec must be compatible to l_mtrx\n",
    "    assert loop_option == 'use-dot-product' or loop_option == 'use-double-loop'\n",
    "    # end of sanity test\n",
    "    \n",
    "    m_rows = l_mtrx.shape[0]\n",
    "    n_cols = m_rows\n",
    "    x_vec = np.zeros(n_cols)\n",
    "    \n",
    "    if loop_option == 'use-dot-product':\n",
    "        \n",
    "        for i in range(m_rows):\n",
    "            sum_lx = np.dot( l_mtrx[i,:i], x_vec[:i] )\n",
    "            #sum_lx = l_mtrx[i,:i] @ x_vec[:i] # matrix-vec mult. alternative to dot product\n",
    "            x_vec[i] = b_vec[i] - sum_lx\n",
    "            x_vec[i] /= l_mtrx[i,i]\n",
    "            \n",
    "    elif loop_option == 'use-double-loop':\n",
    "             \n",
    "        for i in range(m_rows):\n",
    "            sum_lx = 0.0\n",
    "            for j in range(i):\n",
    "                sum_lx += l_mtrx[i,j] * x_vec[j]\n",
    "            x_vec[i] = b_vec[i] - sum_lx\n",
    "            x_vec[i] /= l_mtrx[i,i]\n",
    "               \n",
    "    else:\n",
    "        assert False, 'not allowed option: %r'%loop_option\n",
    "        \n",
    "    return x_vec  \n",
    "```\n",
    "\n",
    "A lower triangular matrix allows for a forward solve.\n",
    "The algorithm for $\\Lmtrx\\,\\xvec=\\bvec$ is as follows: \n",
    "\n",
    "\\begin{equation*}\n",
    "x_i = \\Bigl(b_i - \\sum\\limits_{j=1}^{i-1} L_{i,j}\\,x_j \\Bigr)\\,L^{-1}_{i,i} \\quad\\ \\forall \\quad\\ i=1,\\ldots,m\n",
    "\\end{equation*}\n",
    "\n",
    "**for $i$ and $j$ with offset 1**. Recall that `NumPy` and `Python` have offset 0 for their sequence data types."
   ]
  },
  {
   "cell_type": "code",
   "execution_count": 16,
   "metadata": {},
   "outputs": [
    {
     "name": "stdout",
     "output_type": "stream",
     "text": [
      "l_mtrx=\n",
      " [[0.437 0.    0.    0.    0.   ]\n",
      " [0.256 0.482 0.    0.    0.   ]\n",
      " [0.831 0.857 0.894 0.    0.   ]\n",
      " [0.064 0.039 0.058 0.341 0.   ]\n",
      " [0.318 0.619 0.805 0.831 0.196]]\n",
      "b_vec= [0.428 0.044 0.191 0.842 0.063]\n",
      "x_vec = [ 0.978 -0.428 -0.284  2.387 -8.872]\n"
     ]
    }
   ],
   "source": [
    "'''Testing the example'''\n",
    "\n",
    "import numpy as np\n",
    "\n",
    "size = 5\n",
    "\n",
    "l_mtrx = get_triangular_matrix( ndim=size )\n",
    "\n",
    "b_vec  = np.random.random(size)\n",
    "x_vec  = forward_solve( l_mtrx, b_vec )\n",
    "\n",
    "np.set_printoptions(precision=3)\n",
    "print('l_mtrx=\\n',l_mtrx)\n",
    "print('b_vec=',b_vec)\n",
    "print('x_vec =',x_vec)"
   ]
  },
  {
   "cell_type": "code",
   "execution_count": 17,
   "metadata": {},
   "outputs": [],
   "source": [
    "'''Testing the example'''\n",
    "\n",
    "# rectangular matrix fails\n",
    "l_mtrx = np.ones((size,size+1))\n",
    "b_vec  = np.random.random(size)\n",
    "#x_vec = forward_solve( l_mtrx, b_vec )"
   ]
  },
  {
   "cell_type": "code",
   "execution_count": 18,
   "metadata": {},
   "outputs": [
    {
     "ename": "AssertionError",
     "evalue": "zero value on diagonal.",
     "output_type": "error",
     "traceback": [
      "\u001b[0;31m---------------------------------------------------------------------------\u001b[0m",
      "\u001b[0;31mAssertionError\u001b[0m                            Traceback (most recent call last)",
      "\u001b[0;32m<ipython-input-18-df28f0eccbde>\u001b[0m in \u001b[0;36m<module>\u001b[0;34m\u001b[0m\n\u001b[1;32m      5\u001b[0m \u001b[0ml_mtrx\u001b[0m\u001b[0;34m[\u001b[0m\u001b[0msize\u001b[0m\u001b[0;34m-\u001b[0m\u001b[0;36m1\u001b[0m\u001b[0;34m,\u001b[0m\u001b[0msize\u001b[0m\u001b[0;34m-\u001b[0m\u001b[0;36m1\u001b[0m\u001b[0;34m]\u001b[0m \u001b[0;34m=\u001b[0m \u001b[0;36m0.0\u001b[0m\u001b[0;34m\u001b[0m\u001b[0;34m\u001b[0m\u001b[0m\n\u001b[1;32m      6\u001b[0m \u001b[0mb_vec\u001b[0m  \u001b[0;34m=\u001b[0m \u001b[0mnp\u001b[0m\u001b[0;34m.\u001b[0m\u001b[0mrandom\u001b[0m\u001b[0;34m.\u001b[0m\u001b[0mrandom\u001b[0m\u001b[0;34m(\u001b[0m\u001b[0msize\u001b[0m\u001b[0;34m)\u001b[0m\u001b[0;34m\u001b[0m\u001b[0;34m\u001b[0m\u001b[0m\n\u001b[0;32m----> 7\u001b[0;31m \u001b[0mx_vec\u001b[0m \u001b[0;34m=\u001b[0m \u001b[0mforward_solve\u001b[0m\u001b[0;34m(\u001b[0m \u001b[0ml_mtrx\u001b[0m\u001b[0;34m,\u001b[0m \u001b[0mb_vec\u001b[0m \u001b[0;34m)\u001b[0m\u001b[0;34m\u001b[0m\u001b[0;34m\u001b[0m\u001b[0m\n\u001b[0m",
      "\u001b[0;32m~/OneDrive - University of Massachusetts Lowell - UMass Lowell/uml-courses/ChEn-3170/spring-2020/jupynb-repo/notebooks/chen_3170/help.py\u001b[0m in \u001b[0;36mforward_solve\u001b[0;34m(l_mtrx, b_vec, loop_option)\u001b[0m\n\u001b[1;32m     90\u001b[0m     \u001b[0;32massert\u001b[0m \u001b[0misinstance\u001b[0m\u001b[0;34m(\u001b[0m\u001b[0ml_mtrx\u001b[0m\u001b[0;34m,\u001b[0m\u001b[0mnp\u001b[0m\u001b[0;34m.\u001b[0m\u001b[0mndarray\u001b[0m\u001b[0;34m)\u001b[0m      \u001b[0;31m# l_mtrx must be np.ndarray\u001b[0m\u001b[0;34m\u001b[0m\u001b[0;34m\u001b[0m\u001b[0m\n\u001b[1;32m     91\u001b[0m     \u001b[0;32massert\u001b[0m \u001b[0ml_mtrx\u001b[0m\u001b[0;34m.\u001b[0m\u001b[0mshape\u001b[0m\u001b[0;34m[\u001b[0m\u001b[0;36m0\u001b[0m\u001b[0;34m]\u001b[0m \u001b[0;34m==\u001b[0m \u001b[0ml_mtrx\u001b[0m\u001b[0;34m.\u001b[0m\u001b[0mshape\u001b[0m\u001b[0;34m[\u001b[0m\u001b[0;36m1\u001b[0m\u001b[0;34m]\u001b[0m\u001b[0;34m,\u001b[0m\u001b[0;34m'non-square matrix.'\u001b[0m \u001b[0;31m# l_mtrx must be square\u001b[0m\u001b[0;34m\u001b[0m\u001b[0;34m\u001b[0m\u001b[0m\n\u001b[0;32m---> 92\u001b[0;31m     \u001b[0;32massert\u001b[0m \u001b[0mnp\u001b[0m\u001b[0;34m.\u001b[0m\u001b[0mall\u001b[0m\u001b[0;34m(\u001b[0m\u001b[0mnp\u001b[0m\u001b[0;34m.\u001b[0m\u001b[0mabs\u001b[0m\u001b[0;34m(\u001b[0m\u001b[0mnp\u001b[0m\u001b[0;34m.\u001b[0m\u001b[0mdiagonal\u001b[0m\u001b[0;34m(\u001b[0m\u001b[0ml_mtrx\u001b[0m\u001b[0;34m)\u001b[0m\u001b[0;34m)\u001b[0m \u001b[0;34m>\u001b[0m \u001b[0;36m0.0\u001b[0m\u001b[0;34m)\u001b[0m\u001b[0;34m,\u001b[0m\u001b[0;34m'zero value on diagonal.'\u001b[0m\u001b[0;34m\u001b[0m\u001b[0;34m\u001b[0m\u001b[0m\n\u001b[0m\u001b[1;32m     93\u001b[0m     \u001b[0mrows_ids\u001b[0m\u001b[0;34m,\u001b[0m \u001b[0mcols_ids\u001b[0m \u001b[0;34m=\u001b[0m \u001b[0mnp\u001b[0m\u001b[0;34m.\u001b[0m\u001b[0mwhere\u001b[0m\u001b[0;34m(\u001b[0m\u001b[0mnp\u001b[0m\u001b[0;34m.\u001b[0m\u001b[0mabs\u001b[0m\u001b[0;34m(\u001b[0m\u001b[0ml_mtrx\u001b[0m\u001b[0;34m)\u001b[0m \u001b[0;34m>\u001b[0m \u001b[0;36m0\u001b[0m\u001b[0;34m)\u001b[0m \u001b[0;31m# get i, j of non zero entries\u001b[0m\u001b[0;34m\u001b[0m\u001b[0;34m\u001b[0m\u001b[0m\n\u001b[1;32m     94\u001b[0m     \u001b[0;32massert\u001b[0m \u001b[0mnp\u001b[0m\u001b[0;34m.\u001b[0m\u001b[0mall\u001b[0m\u001b[0;34m(\u001b[0m\u001b[0mrows_ids\u001b[0m \u001b[0;34m>=\u001b[0m \u001b[0mcols_ids\u001b[0m\u001b[0;34m)\u001b[0m\u001b[0;34m,\u001b[0m\u001b[0;34m'non-triangular matrix.'\u001b[0m \u001b[0;31m# test i >= j\u001b[0m\u001b[0;34m\u001b[0m\u001b[0;34m\u001b[0m\u001b[0m\n",
      "\u001b[0;31mAssertionError\u001b[0m: zero value on diagonal."
     ]
    }
   ],
   "source": [
    "'''Testing the example'''\n",
    "\n",
    "# zero element on diagonal matrix fails\n",
    "l_mtrx = get_triangular_matrix(ndim=size)\n",
    "l_mtrx[size-1,size-1] = 0.0\n",
    "b_vec  = np.random.random(size)\n",
    "x_vec = forward_solve( l_mtrx, b_vec )"
   ]
  },
  {
   "cell_type": "markdown",
   "metadata": {},
   "source": [
    "## Input/Output<a id=\"io\"></a>\n",
    "Reading and writing data to persistent storage is needed so that external data is used in a python program or data is saved to disk for future use. This section will list IO operations used in this course. A file is a storage compartment managed by the underlying operating system. Access these files is provided in Python through the built-in function `open` that creates a file object. Using this file object and its methods, data can be transferred in and out of a Python program.\n",
    "The general format of `open` is:\n",
    "```python\n",
    "import io                   # import io module\n",
    "file = open(filename, mode) # create file object\n",
    "file.method()               # use a file method\n",
    "```"
   ]
  },
  {
   "cell_type": "markdown",
   "metadata": {},
   "source": [
    "### Read \"text\"<a id=\"itext\"></a>"
   ]
  },
  {
   "cell_type": "markdown",
   "metadata": {},
   "source": [
    "<div class=\"alert alert-block alert-info\">\n",
    "This is often referred to as reading formated ASCII data from a file. Simply put, if the file can be displayed with a common text editor, the data is in ASCII format. For example the (partial heptane combustion reaction mechanism) file in the course repository `data/`: [rxn-mech.txt](https://github.com/dpploy/chen-3170/blob/master/data/rxn-mech.txt).\n",
    "<p>\n",
    "Reading text in Python will always result into a string type.\n",
    "</p>\n",
    "</div>"
   ]
  },
  {
   "cell_type": "code",
   "execution_count": 19,
   "metadata": {},
   "outputs": [
    {
     "name": "stdout",
     "output_type": "stream",
     "text": [
      "<class '_io.TextIOWrapper'>\n"
     ]
    }
   ],
   "source": [
    "'''Open file (heptane combustion (incomplete))'''\n",
    "\n",
    "# open file in reading mode 'r' (default), text 't' (default)\n",
    "finput = open('data/heptane-rxn.txt','rt')\n",
    "print(type(finput))"
   ]
  },
  {
   "cell_type": "code",
   "execution_count": null,
   "metadata": {},
   "outputs": [],
   "source": [
    "'''Help on open'''\n",
    "\n",
    "help(open)"
   ]
  },
  {
   "cell_type": "code",
   "execution_count": null,
   "metadata": {},
   "outputs": [],
   "source": [
    "'''Methods of finput = open()'''\n",
    "\n",
    "dir(finput)"
   ]
  },
  {
   "cell_type": "code",
   "execution_count": null,
   "metadata": {},
   "outputs": [],
   "source": [
    "'''Example of a read method finput.read()'''\n",
    "\n",
    "help(finput.read)"
   ]
  },
  {
   "cell_type": "code",
   "execution_count": null,
   "metadata": {},
   "outputs": [],
   "source": [
    "'''Let's peek into the file'''\n",
    "\n",
    "!cat 'data/heptane-rxn.txt'"
   ]
  },
  {
   "cell_type": "code",
   "execution_count": null,
   "metadata": {},
   "outputs": [],
   "source": [
    "'''Minimalist approach'''\n",
    "\n",
    "# do nothing (i.e. no direct method) just iterate on the file\n",
    "for line in finput:\n",
    "    print('line =',line) # the line object has an `end of line` character"
   ]
  },
  {
   "cell_type": "code",
   "execution_count": 22,
   "metadata": {},
   "outputs": [
    {
     "name": "stdout",
     "output_type": "stream",
     "text": [
      "<class 'str'>\n",
      "line = C3H4-P+HO2<=>C2H4+CO+OH\n",
      "\n",
      "chars = ['C', '3', 'H', '4', '-', 'P', '+', 'H', 'O', '2', '<', '=', '>', 'C', '2', 'H', '4', '+', 'C', 'O', '+', 'O', 'H', '\\n']\n"
     ]
    }
   ],
   "source": [
    "'''Artifact in reading text'''\n",
    "\n",
    "print(type(line))\n",
    "print('line =',line)\n",
    "print('chars =',[i for i in line]) # inspect character by character"
   ]
  },
  {
   "cell_type": "code",
   "execution_count": 23,
   "metadata": {},
   "outputs": [
    {
     "name": "stdout",
     "output_type": "stream",
     "text": [
      "reaction = ['C3H4-P+HO2<=>C2H4+CO+OH']\n",
      "chars = ['C', '3', 'H', '4', '-', 'P', '+', 'H', 'O', '2', '<', '=', '>', 'C', '2', 'H', '4', '+', 'C', 'O', '+', 'O', 'H']\n"
     ]
    }
   ],
   "source": [
    "'''Removing artifact'''\n",
    "\n",
    "reaction = list()\n",
    "\n",
    "reaction.append( line.strip() ) # leading and trailing spaces; remove end of line special character \\n\n",
    "print('reaction =',reaction) \n",
    "print('chars =',[i for i in reaction[0]])"
   ]
  },
  {
   "cell_type": "code",
   "execution_count": 24,
   "metadata": {},
   "outputs": [
    {
     "name": "stdout",
     "output_type": "stream",
     "text": [
      "split =  ['C3H4-P+HO2', '=>C2H4+CO+OH']\n",
      "left side = C3H4-P+HO2\n",
      "split = ['C3H4-P+HO2<=', 'C2H4+CO+OH']\n",
      "right side = C2H4+CO+OH\n"
     ]
    }
   ],
   "source": [
    "'''Manipulate reactions'''\n",
    "\n",
    "print('split = ',reaction[0].split('<') )\n",
    "left = reaction[0].split('<')[0]\n",
    "print('left side =',left)\n",
    "\n",
    "print('split =',reaction[0].split('>'))\n",
    "right = reaction[0].split('>')[1]\n",
    "print('right side =',right)"
   ]
  },
  {
   "cell_type": "code",
   "execution_count": 25,
   "metadata": {},
   "outputs": [
    {
     "name": "stdout",
     "output_type": "stream",
     "text": [
      "species = ['C3H4-P', 'HO2', 'C2H4', 'CO', 'OH']\n"
     ]
    }
   ],
   "source": [
    "'''Manipulate species'''\n",
    "\n",
    "species = left.split('+') + right.split('+')\n",
    "print('species =',species)"
   ]
  }
 ],
 "metadata": {
  "kernelspec": {
   "display_name": "Python 3",
   "language": "python",
   "name": "python3"
  },
  "language_info": {
   "codemirror_mode": {
    "name": "ipython",
    "version": 3
   },
   "file_extension": ".py",
   "mimetype": "text/x-python",
   "name": "python",
   "nbconvert_exporter": "python",
   "pygments_lexer": "ipython3",
   "version": "3.7.8"
  },
  "latex_envs": {
   "LaTeX_envs_menu_present": true,
   "autoclose": false,
   "autocomplete": true,
   "bibliofile": "biblio.bib",
   "cite_by": "apalike",
   "current_citInitial": 1,
   "eqLabelWithNumbers": true,
   "eqNumInitial": 1,
   "hotkeys": {
    "equation": "Ctrl-E",
    "itemize": "Ctrl-I"
   },
   "labels_anchors": false,
   "latex_user_defs": false,
   "report_style_numbering": false,
   "user_envs_cfg": false
  }
 },
 "nbformat": 4,
 "nbformat_minor": 2
}
