{
 "cells": [
  {
   "cell_type": "markdown",
   "metadata": {},
   "source": [
    "ChEn-3170: Computational Methods in Chemical Engineering Fall 2020 UMass Lowell; Prof. V. F. de Almeida **09Sep20**\n",
    "\n",
    "# 04. Arrays Operations"
   ]
  },
  {
   "cell_type": "markdown",
   "metadata": {},
   "source": [
    "---\n",
    "## Table of Contents<a id=\"toc\">\n",
    "* [Objectives](#obj)\n",
    "* [Vectors](#vectors)\n",
    "* [Matrices](#matrices)\n",
    "---"
   ]
  },
  {
   "cell_type": "markdown",
   "metadata": {},
   "source": [
    "## [Objectives](#toc)<a id=\"obj\"></a>\n",
    "\n",
    " + Cover basic array operations in 1-D (vectors) and 2-D (matrices) needed throughout the course."
   ]
  },
  {
   "cell_type": "code",
   "execution_count": null,
   "metadata": {},
   "outputs": [],
   "source": [
    "'''Python packages are accessed with an import directive as such:'''\n",
    "\n",
    "import numpy as np  # import the package and create the alias: np"
   ]
  },
  {
   "cell_type": "markdown",
   "metadata": {},
   "source": [
    "## [Vectors](#toc)<a id=\"vectors\"></a>"
   ]
  },
  {
   "cell_type": "code",
   "execution_count": null,
   "metadata": {},
   "outputs": [],
   "source": [
    "'''Element-by-element addition or subtraction'''\n",
    "\n",
    "vec1 = np.array( np.random.random(5) )\n",
    "print('vec1     =',vec1)\n",
    "\n",
    "vec2 = np.array(np.random.random(5))\n",
    "print('vec2     =',vec2)\n",
    "\n",
    "result = vec1 + vec2         # element-by-element sum\n",
    "print('addition   =',result)\n",
    "\n",
    "result = vec1 - vec2         # element-by-element subtraction\n",
    "print('difference =',result)"
   ]
  },
  {
   "cell_type": "code",
   "execution_count": null,
   "metadata": {},
   "outputs": [],
   "source": [
    "'''Element-by-element product or division'''\n",
    "\n",
    "vec1 = np.array(np.random.random(5))\n",
    "print('vec1    =',vec1)\n",
    "\n",
    "vec2 = np.array(np.random.random(5))\n",
    "print('vec2    =',vec2)\n",
    "\n",
    "result = vec1 * vec2        # element-by-element product\n",
    "print('product  =',result)\n",
    "\n",
    "result = vec1 / vec2        # element-by-element division\n",
    "print('division =',result)"
   ]
  },
  {
   "cell_type": "code",
   "execution_count": null,
   "metadata": {},
   "outputs": [],
   "source": [
    "'''Product of all elements of a vector'''\n",
    "\n",
    "vec1_prod = np.prod(vec1)\n",
    "print('vec1         =', vec1)\n",
    "print('vec1 product =', vec1_prod)"
   ]
  },
  {
   "cell_type": "code",
   "execution_count": null,
   "metadata": {},
   "outputs": [],
   "source": [
    "'''Vector inner product or dot product'''\n",
    "\n",
    "vec1 = np.array(np.random.random(5))\n",
    "print('vec1           =',vec1)\n",
    "\n",
    "vec2 = np.array(np.random.random(5))\n",
    "print('vec2           =',vec2)\n",
    "\n",
    "result = np.dot(vec1, vec2)     # inner or dot product\n",
    "print('dot product =',result)"
   ]
  },
  {
   "cell_type": "code",
   "execution_count": null,
   "metadata": {},
   "outputs": [],
   "source": [
    "'''More on vector inner product or dot product'''\n",
    "\n",
    "ele_by_ele_product = vec1 * vec2\n",
    "\n",
    "inner_product = ele_by_ele_product.sum()\n",
    "\n",
    "print('vec1 . vec2 = ', inner_product)"
   ]
  },
  {
   "cell_type": "code",
   "execution_count": null,
   "metadata": {},
   "outputs": [],
   "source": [
    "'''Scaling of a vector'''\n",
    "\n",
    "vec = np.array(np.random.random(5))\n",
    "print('vec    =',vec)\n",
    "\n",
    "factor = 0.345\n",
    "scaled = factor * vec     # scaling of vec element-by-element product\n",
    "print('scaled =', scaled) # assigned to new variable `scaled`\n",
    "\n",
    "vec *= factor          # in-place scaling\n",
    "print('vec    =',vec)"
   ]
  },
  {
   "cell_type": "code",
   "execution_count": null,
   "metadata": {},
   "outputs": [],
   "source": [
    "'''Mathematical Operations on a Vector'''\n",
    "\n",
    "vec = np.array(np.random.random(5))\n",
    "print('vec      =',vec)\n",
    "\n",
    "log_vec = np.log(vec)         # natural log element-by-element\n",
    "print('log(vec) =',log_vec)\n",
    "\n",
    "exp_vec = np.exp(log_vec)     # exponential\n",
    "print('exp(vec) =',exp_vec)\n",
    "\n",
    "sin_vec = np.sin(vec)         # sine\n",
    "print('sin(vec) =',sin_vec)\n",
    "\n",
    "vec_cubed = vec**3            # powers\n",
    "print('vec^3    =',vec_cubed)\n",
    "\n",
    "vec_mean = vec.mean()         # arithmetic mean\n",
    "print('mean(vec) =',vec_mean)\n",
    "\n",
    "vec_std = vec.std()           # standard deviation\n",
    "print('std(vec) =',vec_std)"
   ]
  },
  {
   "cell_type": "code",
   "execution_count": null,
   "metadata": {},
   "outputs": [],
   "source": [
    "'''Searching a vector for entries matching a test'''\n",
    "\n",
    "# what are the indices of the values in \"vec\" that satisfy: vec[] >= 0.3\n",
    "(idx_ids, ) = np.where( vec >= 0.3 ) \n",
    "\n",
    "print('vec =',vec)\n",
    "print('indices = ',idx_ids)"
   ]
  },
  {
   "cell_type": "code",
   "execution_count": null,
   "metadata": {},
   "outputs": [],
   "source": [
    "'''Searching a vector for entries matching a test'''\n",
    "\n",
    "# what are the indices of the values in \"vec\" that satisfy: vec[] == 0.3\n",
    "(idx_ids, ) = np.where( vec == 0.3 ) \n",
    "\n",
    "print('vec =',vec)\n",
    "print('indices = ',idx_ids)"
   ]
  },
  {
   "cell_type": "markdown",
   "metadata": {},
   "source": [
    "## [Matrices](#toc)<a id=\"matrices\"></a>"
   ]
  },
  {
   "cell_type": "code",
   "execution_count": null,
   "metadata": {},
   "outputs": [],
   "source": [
    "'''Element-by-element addition or subtraction'''\n",
    "\n",
    "mat1 = np.random.random( (3,3) )\n",
    "print('mat1       =\\n',mat1)\n",
    "\n",
    "mat2 = np.random.random( (3,3) )\n",
    "print('mat2       =\\n',mat2)\n",
    "\n",
    "result = mat1 + mat2              # element-by-element sum\n",
    "print('addition   =\\n',result)\n",
    "\n",
    "result = mat1 - mat2              # element-by-element subtraction\n",
    "print('difference =\\n',result)"
   ]
  },
  {
   "cell_type": "code",
   "execution_count": null,
   "metadata": {},
   "outputs": [],
   "source": [
    "'''Element-by-element product or division'''\n",
    "\n",
    "mat1 = np.random.random((3,3))\n",
    "print('mat1     =\\n',mat1)\n",
    "\n",
    "mat2 = np.random.random((3,3))\n",
    "print('mat2     =\\n',mat2)\n",
    "\n",
    "result = mat1 * mat2          # element-by-element product\n",
    "print('product  =\\n',result)\n",
    "\n",
    "result = mat1 / mat2          # element-by-element division (cross your fingers)\n",
    "print('division =\\n',result)"
   ]
  },
  {
   "cell_type": "code",
   "execution_count": null,
   "metadata": {},
   "outputs": [],
   "source": [
    "'''Produce Noise on a Matrix Image (brick data)'''\n",
    "%matplotlib inline\n",
    "from matplotlib import pyplot as plt     # import the pyplot function of the matplotlib package\n",
    "plt.rcParams['figure.figsize'] = [20, 4] # extend the figure size on screen output\n",
    "\n",
    "# Read image from the images/ directory in the chen-3170 repo\n",
    "block = plt.imread('images/glacier.png',format='png')\n",
    "\n",
    "plt.figure(1)\n",
    "plt.imshow( block )\n",
    "plt.title('Matrix Reloaded',fontsize=14)\n",
    "plt.show()\n",
    "print('block shape =',block.shape)  # inspect the array shape"
   ]
  },
  {
   "cell_type": "code",
   "execution_count": null,
   "metadata": {},
   "outputs": [],
   "source": [
    "'''Use Matrix Multiplication'''\n",
    "\n",
    "mtrx_shape = block.shape[0:2]                  # use the shape to automate noise_mtrx generation\n",
    "\n",
    "noise_mtrx = np.random.random( mtrx_shape )      # generate random matrix\n",
    "\n",
    "block_noise = block[:,:,2] * noise_mtrx   # apply noise to the blue channel\n",
    "\n",
    "plt.figure(2)\n",
    "plt.imshow(block_noise)\n",
    "plt.title('Noisy Block',fontsize=14)\n",
    "plt.show()"
   ]
  },
  {
   "cell_type": "code",
   "execution_count": null,
   "metadata": {},
   "outputs": [],
   "source": [
    "'''Matrix Scaling (matrix product or division by a scalar)'''\n",
    "\n",
    "mat1 = np.random.random( (3,3) )\n",
    "print('mat1      =\\n',mat1)\n",
    "\n",
    "factor = 3.21\n",
    "result = factor * mat1        # scaling of mat1 element-by-element; product with factor\n",
    "print('scaled   =\\n',result)"
   ]
  },
  {
   "cell_type": "code",
   "execution_count": null,
   "metadata": {},
   "outputs": [],
   "source": [
    "'''Matrix Scaling of an Image'''\n",
    "\n",
    "color_channel = np.copy(block[:,:,0])   # copy the red channel\n",
    "\n",
    "color_channel /= color_channel.max()    # scale to gray, 0-255 values\n",
    "color_channel *= 255\n",
    "gray_channel  = color_channel.astype(int) # truncate all float data type to int\n",
    "\n",
    "plt.figure(3)\n",
    "plt.imshow( gray_channel, cmap='gray' )\n",
    "plt.title('Matrix Gray Scaling',fontsize=14)\n",
    "plt.show()"
   ]
  },
  {
   "cell_type": "code",
   "execution_count": null,
   "metadata": {},
   "outputs": [],
   "source": [
    "'''Other Mathematical Operations on a Matrix'''\n",
    "\n",
    "mtrx = np.copy(block[:,:,0])    # copy the red channel\n",
    "\n",
    "plt.figure(4)\n",
    "plt.imshow( mtrx )              # show channel as a flat image with default colormap\n",
    "plt.title('Original',fontsize=14)\n",
    "plt.show()\n",
    "\n",
    "mtrx_mean = mtrx.mean()         # arithmetic mean\n",
    "print('mean(mtrx) =',mtrx_mean)\n",
    "\n",
    "mtrx_std = mtrx.std()           # standard deviation\n",
    "print('std(mtrx) =',mtrx_std)"
   ]
  },
  {
   "cell_type": "code",
   "execution_count": null,
   "metadata": {},
   "outputs": [],
   "source": [
    "'''Other Mathematical Operations on a Matrix'''\n",
    "\n",
    "log_mtrx = np.log(mtrx + .001)  # natural log element-by-element\n",
    "\n",
    "plt.figure(5)\n",
    "plt.imshow(log_mtrx)\n",
    "plt.title('Log Transform',fontsize=14)\n",
    "plt.show()\n",
    "\n",
    "mtrx_mean = log_mtrx.mean()         # arithmetic mean\n",
    "print('mean(mtrx) =',mtrx_mean)\n",
    "\n",
    "mtrx_std = log_mtrx.std()           # standard deviation\n",
    "print('std(mtrx) =',mtrx_std)"
   ]
  },
  {
   "cell_type": "code",
   "execution_count": null,
   "metadata": {},
   "outputs": [],
   "source": [
    "'''Other Mathematical Operations on a Matrix'''\n",
    "\n",
    "exp_mtrx = np.exp(log_mtrx)     # exponential\n",
    "\n",
    "plt.figure(6)\n",
    "plt.imshow(exp_mtrx)\n",
    "plt.title('Exp of Log Transform',fontsize=14)\n",
    "plt.show()\n",
    "\n",
    "mtrx_mean = exp_mtrx.mean()         # arithmetic mean\n",
    "print('mean(mtrx) =',mtrx_mean)\n",
    "\n",
    "mtrx_std = exp_mtrx.std()           # standard deviation\n",
    "print('std(mtrx) =',mtrx_std)"
   ]
  },
  {
   "cell_type": "code",
   "execution_count": null,
   "metadata": {},
   "outputs": [],
   "source": [
    "'''Other Mathematical Operations on a Matrix'''\n",
    "\n",
    "sin_mtrx = np.sin( mtrx + np.pi/2 )  # sine\n",
    "\n",
    "plt.figure(7)\n",
    "plt.imshow(sin_mtrx)\n",
    "plt.title('Sine Transform',fontsize=14)\n",
    "plt.show()\n",
    "\n",
    "mtrx_mean = sin_mtrx.mean()         # arithmetic mean\n",
    "print('mean(mtrx) =',mtrx_mean)\n",
    "\n",
    "mtrx_std = sin_mtrx.std()           # standard deviation\n",
    "print('std(mtrx) =',mtrx_std)"
   ]
  },
  {
   "cell_type": "code",
   "execution_count": null,
   "metadata": {},
   "outputs": [],
   "source": [
    "'''Other Mathematical Operations on a Matrix'''\n",
    "\n",
    "mtrx_cubed = mtrx**3  # powers\n",
    "\n",
    "plt.figure(8)\n",
    "plt.imshow(mtrx_cubed)\n",
    "plt.title('Cube Transform',fontsize=14)\n",
    "plt.show()\n",
    "\n",
    "mtrx_mean = mtrx_cubed.mean()         # arithmetic mean\n",
    "print('mean(mtrx) =',mtrx_mean)\n",
    "\n",
    "mtrx_std = mtrx_cubed.std()           # standard deviation\n",
    "print('std(mtrx) =',mtrx_std)"
   ]
  },
  {
   "cell_type": "code",
   "execution_count": null,
   "metadata": {},
   "outputs": [],
   "source": [
    "'''Matrix Transposition'''\n",
    "'''clockwise rotation followed by horizontal right to left flip'''\n",
    "\n",
    "mtrx = np.random.random((5,7))\n",
    "\n",
    "np.set_printoptions(precision=3,threshold=20,edgeitems=12,linewidth=100) # one way to control printing of numpy arrays\n",
    "print('mtrx =\\n',mtrx)\n",
    "\n",
    "mtrx_T = mtrx.transpose()       # transpose of a mtrx: M[i,j] -> M[j,i]\n",
    "print('mtrx^T =\\n',mtrx_T)"
   ]
  },
  {
   "cell_type": "code",
   "execution_count": null,
   "metadata": {},
   "outputs": [],
   "source": [
    "'''Matrix Transposition'''\n",
    "'''example of adding a transformed matrix to another transform transposed'''\n",
    "\n",
    "'''note: to add a matrix to its transpose, a matrix must be square'''\n",
    "\n",
    "n_rows = block.shape[0]\n",
    "n_columns = n_rows\n",
    "\n",
    "mtrx = np.copy( block[:n_rows,:n_columns,0] )   # select a square block; red channel\n",
    "\n",
    "sin_mtrx = np.sin( mtrx + np.pi/2 )  # sine\n",
    "\n",
    "sin_mtrx /= sin_mtrx.max()\n",
    "plt.figure(9)\n",
    "plt.imshow(sin_mtrx)\n",
    "plt.title('Sine Transform',fontsize=14)\n",
    "plt.show()\n",
    "\n",
    "mtrx_cubed = mtrx**3                # powers\n",
    "\n",
    "plt.figure(10)\n",
    "plt.imshow(mtrx_cubed)\n",
    "plt.title('Cube Transform',fontsize=14)\n",
    "plt.show()\n",
    "\n",
    "plt.figure(11)\n",
    "plt.imshow( sin_mtrx + mtrx_cubed.transpose() )    # sine + cubed transposed\n",
    "plt.title('Sine + Cube Transpose Transform',fontsize=14)\n",
    "plt.show()"
   ]
  },
  {
   "cell_type": "markdown",
   "metadata": {},
   "source": [
    "TODO:\n",
    "    explain: (rows_ids, cols_ids) = np.where( pivot_candidates == max_magnitude_value )"
   ]
  }
 ],
 "metadata": {
  "kernelspec": {
   "display_name": "Python 3",
   "language": "python",
   "name": "python3"
  },
  "language_info": {
   "codemirror_mode": {
    "name": "ipython",
    "version": 3
   },
   "file_extension": ".py",
   "mimetype": "text/x-python",
   "name": "python",
   "nbconvert_exporter": "python",
   "pygments_lexer": "ipython3",
   "version": "3.7.8"
  },
  "latex_envs": {
   "LaTeX_envs_menu_present": true,
   "autoclose": false,
   "autocomplete": true,
   "bibliofile": "biblio.bib",
   "cite_by": "apalike",
   "current_citInitial": 1,
   "eqLabelWithNumbers": true,
   "eqNumInitial": 1,
   "hotkeys": {
    "equation": "Ctrl-E",
    "itemize": "Ctrl-I"
   },
   "labels_anchors": false,
   "latex_user_defs": false,
   "report_style_numbering": false,
   "user_envs_cfg": false
  }
 },
 "nbformat": 4,
 "nbformat_minor": 2
}
