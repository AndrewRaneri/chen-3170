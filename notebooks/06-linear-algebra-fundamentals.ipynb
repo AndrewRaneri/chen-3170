{
 "cells": [
  {
   "cell_type": "markdown",
   "metadata": {},
   "source": [
    "ChEn-3170: Computational Methods in Chemical Engineering Fall 2020 UMass Lowell; Prof. V. F. de Almeida **21Sep20**\n",
    "\n",
    "# 06. Computational Linear Algebra Fundamentals\n",
    "$  \n",
    "  \\newcommand{\\Amtrx}{\\boldsymbol{\\mathsf{A}}}\n",
    "  \\newcommand{\\Bmtrx}{\\boldsymbol{\\mathsf{B}}}\n",
    "  \\newcommand{\\Cmtrx}{\\boldsymbol{\\mathsf{C}}}\n",
    "  \\newcommand{\\Dmtrx}{\\boldsymbol{\\mathsf{D}}}\n",
    "  \\newcommand{\\Mmtrx}{\\boldsymbol{\\mathsf{M}}}\n",
    "  \\newcommand{\\Imtrx}{\\boldsymbol{\\mathsf{I}}}\n",
    "  \\newcommand{\\Pmtrx}{\\boldsymbol{\\mathsf{P}}}\n",
    "  \\newcommand{\\Qmtrx}{\\boldsymbol{\\mathsf{Q}}}\n",
    "  \\newcommand{\\Lmtrx}{\\boldsymbol{\\mathsf{L}}}\n",
    "  \\newcommand{\\Umtrx}{\\boldsymbol{\\mathsf{U}}}\n",
    "  \\newcommand{\\xvec}{\\boldsymbol{\\mathsf{x}}}\n",
    "  \\newcommand{\\avec}{\\boldsymbol{\\mathsf{a}}}\n",
    "  \\newcommand{\\bvec}{\\boldsymbol{\\mathsf{b}}}\n",
    "  \\newcommand{\\cvec}{\\boldsymbol{\\mathsf{c}}}\n",
    "  \\newcommand{\\rvec}{\\boldsymbol{\\mathsf{r}}}\n",
    "  \\newcommand{\\norm}[1]{\\bigl\\lVert{#1}\\bigr\\rVert}\n",
    "  \\DeclareMathOperator{\\rank}{rank}\n",
    "$"
   ]
  },
  {
   "cell_type": "markdown",
   "metadata": {},
   "source": [
    "---\n",
    "## Table of Contents<a id=\"toc\">\n",
    "* [Objectives](#obj)\n",
    "* [Theory](#theory)\n",
    "* [Matrix-vector and matrix-matrix product operations](#product)\n",
    " + [Vector inner product](#inner)\n",
    " + [Matrix-vector product](#matvec)\n",
    " + [Matrix-matrix product](#matmat)\n",
    " + [Vector outer product](#outer)\n",
    "* [NumPy and SciPy Linear Algebra](#pylinalg)\n",
    " + [Matrix solve](#pysolve)\n",
    " + [$\\Lmtrx$ forward solve](#pyl)\n",
    " + [$\\Umtrx$ backward solve](#pyu)\n",
    " + [Verification of solver accuracy](#accuracy)\n",
    " + [$\\Amtrx = \\Pmtrx\\,\\Lmtrx\\,\\Umtrx$ factorization](#pyplu)\n",
    "* [This Course Linear Algebra](#courselinalg)\n",
    " + [$\\Lmtrx$ forward solve](#l)\n",
    " + [$\\Umtrx$ backward solve](#u)\n",
    " + [$\\Amtrx = \\Lmtrx\\,\\Umtrx$ factorization](#lu)\n",
    " + [$\\Pmtrx\\,\\Amtrx = \\Lmtrx\\,\\Umtrx$ factorization](#plu)\n",
    " + [$\\Pmtrx\\,\\Amtrx\\,\\Qmtrx = \\Lmtrx\\,\\Umtrx$ factorization](#pqlu)\n",
    "---"
   ]
  },
  {
   "cell_type": "markdown",
   "metadata": {},
   "source": [
    "## [Objectives](#toc)<a id=\"obj\"></a>\n",
    "\n",
    " + Introduce the elements of computational linear algebra needed in this course to analyse and solve system of linear algebraic equations.\n",
    " + Implement a direct method of solution of linear algebraic equations (also known as matrix factorization)."
   ]
  },
  {
   "cell_type": "markdown",
   "metadata": {},
   "source": [
    "## [Theory](#toc)<a id=\"theory\"></a>\n",
    "The course notes (OneNote [ChEn-3170-linalg](https://studentuml-my.sharepoint.com/:o:/g/personal/valmor_dealmeida_uml_edu/ElnkSCbFAJFJn2BnAc3XSnkBsJIowFKHoeXnc-6jmmhPXQ?e=ngckKC) cover basic elements of linear system of algebraic equations as applied to computational stoichiometry. Particular attention is given to conditions for the existance and uniqueness of solutions of general algebraic systems.\n",
    "\n",
    "Basic theoretical aspects of solving for $\\overset{(n)}{\\xvec}$ in the matrix equation $\\overset{(m\\times n)}{\\Amtrx}\\,\\overset{(n)}{\\xvec} = \\overset{(m)}{\\bvec}$ are covered. $\\overset{(m\\times n)}{\\Amtrx}$ is a matrix, $\\overset{(m)}{\\bvec}$ and $\\overset{(n)}{\\xvec}$ are vectors where $m$ indicates the number of rows (or equations) and $n$ number of columns (or unknowns)."
   ]
  },
  {
   "cell_type": "markdown",
   "metadata": {},
   "source": [
    "## [Matrix-vector and matrix-matrix product operations](#toc)<a id=\"product\"></a>\n",
    "The following operations between vectors and matrices are obtained directly from the buil-in functions in the `numpy` package."
   ]
  },
  {
   "cell_type": "code",
   "execution_count": null,
   "metadata": {},
   "outputs": [],
   "source": [
    "'''Import the NumPy package as usual'''\n",
    "\n",
    "import numpy as np"
   ]
  },
  {
   "cell_type": "markdown",
   "metadata": {},
   "source": [
    "#### [Vector inner product](#toc)<a id=\"inner\"></a>"
   ]
  },
  {
   "cell_type": "markdown",
   "metadata": {},
   "source": [
    "Inner product of two vectors: $\\avec \\cdot \\bvec$."
   ]
  },
  {
   "cell_type": "code",
   "execution_count": null,
   "metadata": {},
   "outputs": [],
   "source": [
    "'''Vector inner product or dot product of vectors'''\n",
    "\n",
    "a_vec = np.array( np.random.random(3) )\n",
    "b_vec = np.array( np.random.random(3) )\n",
    "\n",
    "np.set_printoptions( precision=3, threshold=20, edgeitems=12, linewidth=100 )\n",
    "\n",
    "a_vec_dot_b_vec = np.dot( a_vec, b_vec ) # clear linear algebra operation\n",
    "print('a.b =', a_vec_dot_b_vec)\n",
    "\n",
    "a_vec_x_b_vec = a_vec @ b_vec   # consistent linear algebra multiplication\n",
    "print('a@b =', a_vec_x_b_vec )"
   ]
  },
  {
   "cell_type": "code",
   "execution_count": null,
   "metadata": {},
   "outputs": [],
   "source": [
    "print( 'a.b = %10.4e'%a_vec_dot_b_vec ) # formatting with scientific notation"
   ]
  },
  {
   "cell_type": "markdown",
   "metadata": {},
   "source": [
    "#### [Matrix-vector product](#toc)<a id=\"matvec\"></a>"
   ]
  },
  {
   "cell_type": "markdown",
   "metadata": {},
   "source": [
    "Matrix vector product: $\\Amtrx\\,\\bvec$."
   ]
  },
  {
   "cell_type": "code",
   "execution_count": null,
   "metadata": {},
   "outputs": [],
   "source": [
    "'''Matrix-vector product'''\n",
    "\n",
    "a_mtrx = np.array( [ [ 2.,  1., 1.],   # per course notes (NB 03/04)\n",
    "                     [ 4., -6., 0.],\n",
    "                     [-2.,  7., 2.] \n",
    "                   ] )\n",
    "\n",
    "b_vec = np.array( [5., -2., 9.] )       # per course notes\n",
    "\n",
    "a_mtrx_x_b_vec = a_mtrx @ b_vec # linear algebra matrix-vector product\n",
    "\n",
    "print('A b =', a_mtrx_x_b_vec)"
   ]
  },
  {
   "cell_type": "markdown",
   "metadata": {},
   "source": [
    "**$\\Rightarrow$ This:** `a_mtrx * b_vec` is a valid operation but <span style=\"color:red\">**it is not**</span> a matrix-vector product of linear algebra!"
   ]
  },
  {
   "cell_type": "markdown",
   "metadata": {},
   "source": [
    "Matrix-vector product: $\\Imtrx\\,\\bvec = \\bvec$. Note: $\\begin{pmatrix}\n",
    "1 & 0 & 0 \\\\\n",
    "0 & 1 & 0 \\\\\n",
    "0 & 0 & 1\n",
    "\\end{pmatrix} \\, \\begin{pmatrix} b_1\\\\b_2\\\\b_3 \\end{pmatrix} = \\begin{pmatrix} b_1\\\\b_2\\\\b_3 \\end{pmatrix} $."
   ]
  },
  {
   "cell_type": "code",
   "execution_count": null,
   "metadata": {},
   "outputs": [],
   "source": [
    "'''Identity-matrix vector product'''\n",
    "\n",
    "i_mtrx = np.eye(3)\n",
    "\n",
    "i_mtrx_x_b_vec = i_mtrx @ b_vec # linear algebra matrix-vector product\n",
    "\n",
    "print('b   =', b_vec)\n",
    "print('I b =', i_mtrx_x_b_vec)"
   ]
  },
  {
   "cell_type": "markdown",
   "metadata": {},
   "source": [
    "Matrix-matrix product: $\\Imtrx\\,\\Amtrx = \\Amtrx$. Note: $\\begin{pmatrix}\n",
    "1 & 0 & 0 \\\\\n",
    "0 & 1 & 0 \\\\\n",
    "0 & 0 & 1\n",
    "\\end{pmatrix} \\, \n",
    "\\begin{pmatrix} \n",
    "A_{1,1} & A_{1,2} & A_{1,3} \\\\\n",
    "A_{2,1} & A_{2,2} & A_{2,3} \\\\\n",
    "A_{3,1} & A_{3,2} & A_{3,3}\n",
    "\\end{pmatrix} = \n",
    "\\begin{pmatrix} \n",
    "A_{1,1} & A_{1,2} & A_{1,3} \\\\\n",
    "A_{2,1} & A_{2,2} & A_{2,3} \\\\\n",
    "A_{3,1} & A_{3,2} & A_{3,3}\n",
    "\\end{pmatrix}\n",
    "$."
   ]
  },
  {
   "cell_type": "code",
   "execution_count": null,
   "metadata": {},
   "outputs": [],
   "source": [
    "'''Matrix-matrix product IA = A'''\n",
    "\n",
    "i_mtrx_x_a_mtrx = i_mtrx @ a_mtrx   # linear algebra matrix-matrix product\n",
    "\n",
    "print('I x A =\\n', i_mtrx_x_a_mtrx)\n",
    "print('A     =\\n', a_mtrx)"
   ]
  },
  {
   "cell_type": "markdown",
   "metadata": {},
   "source": [
    "#### [Matrix-matrix product](#toc)<a id=\"matmat\"></a>"
   ]
  },
  {
   "cell_type": "markdown",
   "metadata": {},
   "source": [
    "Matrix-matrix product: $\\Amtrx\\,\\Bmtrx = \\Cmtrx$. Note: \n",
    "$\\begin{pmatrix}\n",
    "A_{1,1} & A_{1,2} & A_{1,3} \\\\\n",
    "A_{2,1} & A_{2,2} & A_{2,3} \\\\\n",
    "A_{3,1} & A_{3,2} & A_{3,3}\n",
    "\\end{pmatrix} \\, \n",
    "\\begin{pmatrix} \n",
    "B_{1,1} & B_{1,2} & B_{1,3} \\\\\n",
    "B_{2,1} & B_{2,2} & B_{2,3} \\\\\n",
    "B_{3,1} & B_{3,2} & B_{3,3}\n",
    "\\end{pmatrix} = \n",
    "\\begin{pmatrix} \n",
    "C_{1,1} & C_{1,2} & C_{1,3} \\\\\n",
    "C_{2,1} & C_{2,2} & C_{2,3} \\\\\n",
    "C_{3,1} & C_{3,2} & C_{3,3}\n",
    "\\end{pmatrix}\n",
    "$ where each $C_{i,j}$ is a vector product of the $i$th row of $\\Amtrx$ and the $j$th column of $\\Bmtrx$, *i.e.* \n",
    "$C_{i,j} = \\sum\\limits_{k=1}^3 A_{i,k}\\, B_{k,j}$."
   ]
  },
  {
   "cell_type": "code",
   "execution_count": null,
   "metadata": {},
   "outputs": [],
   "source": [
    "'''Matrix-matrix product AB = C'''\n",
    "\n",
    "b_mtrx = np.array( [ [ 5. ,  5. ,  5.],\n",
    "                     [-2. , -2. , -2.],\n",
    "                     [ 9. ,  9. ,  9.]  ]\n",
    "                 )\n",
    "\n",
    "c_mtrx = a_mtrx @ b_mtrx   # linear algebra matrix-matrix product\n",
    "\n",
    "print('A =\\n', a_mtrx)\n",
    "print('B =\\n', b_mtrx)\n",
    "print('A B = C =\\n', c_mtrx)"
   ]
  },
  {
   "cell_type": "markdown",
   "metadata": {},
   "source": [
    "<div class=\"alert alert-block alert-danger\">\n",
    "The matrix-matrix product: $\\Bmtrx\\,\\Amtrx = \\Dmtrx \\ne \\Cmtrx$, does not commute in general. Note \n",
    "$D_{i,j} = \\sum\\limits_{k=1}^3 B_{i,k}\\, A_{k,j}$.\n",
    "</div>"
   ]
  },
  {
   "cell_type": "code",
   "execution_count": null,
   "metadata": {
    "scrolled": true
   },
   "outputs": [],
   "source": [
    "'''Matrix-matrix product BA = D'''\n",
    "\n",
    "d_mtrx = b_mtrx @ a_mtrx   # linear algebra matrix-matrix product\n",
    "\n",
    "print('A =\\n', a_mtrx)\n",
    "print('B =\\n', b_mtrx)\n",
    "print('B A = D =\\n', d_mtrx)"
   ]
  },
  {
   "cell_type": "markdown",
   "metadata": {},
   "source": [
    "#### [Vector outer product](#toc)<a id=\"outer\"></a>"
   ]
  },
  {
   "cell_type": "code",
   "execution_count": null,
   "metadata": {},
   "outputs": [],
   "source": [
    "'''Vector-vector outer product'''\n",
    "\n",
    "a_vec = np.random.random(4)\n",
    "b_vec = np.random.random(5)\n",
    "\n",
    "mtrx = np.outer(a_vec, b_vec)\n",
    "\n",
    "print('a outer b =\\n', mtrx)\n",
    "print('shape =',mtrx.shape)"
   ]
  },
  {
   "cell_type": "code",
   "execution_count": null,
   "metadata": {},
   "outputs": [],
   "source": [
    "'''Vector-vector outer product'''\n",
    "\n",
    "mtrx = np.outer(b_vec, a_vec)\n",
    "\n",
    "print('b outer a =\\n', mtrx)\n",
    "print('shape =',mtrx.shape)"
   ]
  },
  {
   "cell_type": "markdown",
   "metadata": {},
   "source": [
    "## [NumPy and SciPy Linear Algebra](#toc)<a id=\"pylinalg\"></a>\n",
    "[NumPy](http://www.numpy.org/) has extensive support for [linear algebra](https://docs.scipy.org/doc/numpy/reference/routines.linalg.html?highlight=linear%20algebra) arrays. We collect here the relevant operations for this course.\n",
    "However additional resources are instead added to [SciPy](https://docs.scipy.org/doc/scipy-1.1.0/reference/) for general scientific computing including [linear algebra](https://docs.scipy.org/doc/scipy-1.1.0/reference/tutorial/linalg.html).\n",
    "\n",
    "Linear algebra operations are obtained from the `linalg` sub-package of the `numpy` package, and the `linalg` sub-package of `scipy`."
   ]
  },
  {
   "cell_type": "code",
   "execution_count": null,
   "metadata": {},
   "outputs": [],
   "source": [
    "'''Import the NumPy linear algebra sub-package as usual'''\n",
    "\n",
    "#import numpy.linalg as linalg\n",
    "#from numpy import linalg       # often used alternative\n",
    "'''or leave it commented since the usage of np.linalg is self-documenting'''"
   ]
  },
  {
   "cell_type": "markdown",
   "metadata": {},
   "source": [
    "The 2-norm or norm (magnitude) of a vector $\\bvec$ is indicated as $\\norm{\\bvec}$ and computed as follows:"
   ]
  },
  {
   "cell_type": "code",
   "execution_count": null,
   "metadata": {},
   "outputs": [],
   "source": [
    "'''Vector norm (or magnitude)'''\n",
    "\n",
    "norm_b_vec = np.linalg.norm( b_vec ) # default norm is the 2-norm \n",
    "print('||b|| =', norm_b_vec)      # same as magnitude"
   ]
  },
  {
   "cell_type": "markdown",
   "metadata": {},
   "source": [
    "### [Matrix solve](#toc)<a id=\"pysolve\"></a>\n",
    "\n",
    "*Solve*<a id=\"solve\"></a> for $\\xvec$ in the matrix equation $\\Amtrx\\,\\xvec = \\bvec$, where $\\Amtrx = \n",
    "\\begin{pmatrix}\n",
    "2 & 1 & 1 \\\\\n",
    "4 & -6 & 0 \\\\\n",
    "-2 & 7 & 2\n",
    "\\end{pmatrix}\n",
    "$\n",
    "and $\\bvec = \\begin{pmatrix} 5\\\\ -2\\\\ 9 \\end{pmatrix}$."
   ]
  },
  {
   "cell_type": "code",
   "execution_count": null,
   "metadata": {},
   "outputs": [],
   "source": [
    "'''Matrix solver (this is short for solution of a linear algebraic system of equations)'''\n",
    "\n",
    "a_mtrx = np.array( [ [ 2.,  1., 1.],   # per course notes (NB 03/04)\n",
    "                     [ 4., -6., 0.],\n",
    "                     [-2.,  7., 2.] \n",
    "                   ] )\n",
    "\n",
    "b_vec = np.array( [5., -2., 9.] ) \n",
    "\n",
    "x_vec = np.linalg.solve( a_mtrx, b_vec ) # solve linear system for A, b; per course notes 04\n",
    "\n",
    "print('solution x =', x_vec)"
   ]
  },
  {
   "cell_type": "markdown",
   "metadata": {},
   "source": [
    "The residual vector defined as $\\rvec = \\bvec - \\Amtrx\\,\\xvec$ is of importance. So is its norm $\\norm{\\rvec}$."
   ]
  },
  {
   "cell_type": "code",
   "execution_count": null,
   "metadata": {},
   "outputs": [],
   "source": [
    "'''Verify the accuracy of the solution'''\n",
    "\n",
    "res_vec = b_vec - a_mtrx @ x_vec\n",
    "\n",
    "print('b - A x =',res_vec)\n",
    "print('||b - A x|| =',np.linalg.norm( res_vec ))"
   ]
  },
  {
   "cell_type": "markdown",
   "metadata": {},
   "source": [
    "The rank of a matrix of coefficients, $\\rank(\\Amtrx)$, of a linear algebraic system of equations determines weather the solution is unique or singular."
   ]
  },
  {
   "cell_type": "code",
   "execution_count": null,
   "metadata": {},
   "outputs": [],
   "source": [
    "'''Matrix rank'''\n",
    "\n",
    "k = np.linalg.matrix_rank( a_mtrx )  # rank; per course notes 14\n",
    "\n",
    "print('rank(A) =',k)\n",
    "print('shape(A) =',a_mtrx.shape)\n",
    "\n",
    "if k == a_mtrx.shape[0] and k == a_mtrx.shape[1]:     # flow control\n",
    "    print('A is non-singular; solution is unique ')\n",
    "else: \n",
    "    print('A is singular')"
   ]
  },
  {
   "cell_type": "markdown",
   "metadata": {},
   "source": [
    "Why is the following matrix $\\Bmtrx$ singular?"
   ]
  },
  {
   "cell_type": "code",
   "execution_count": null,
   "metadata": {},
   "outputs": [],
   "source": [
    "b_mtrx = np.array( [ [ 2.,  1.,  3.],   # singular\n",
    "                     [ 4., -6., -2.],\n",
    "                     [-2.,  7.,  5.]])\n",
    "\n",
    "k = np.linalg.matrix_rank( b_mtrx )  # rank \n",
    "\n",
    "print('rank(B) =',k)\n",
    "print('shape(B) =',b_mtrx.shape)\n",
    "\n",
    "if k == b_mtrx.shape[0] and k == b_mtrx.shape[1]:     # flow control\n",
    "    print('B is non-singular; solution is unique ')\n",
    "else: \n",
    "    print('B is singular')"
   ]
  },
  {
   "cell_type": "code",
   "execution_count": null,
   "metadata": {},
   "outputs": [],
   "source": [
    "'''Matrix determinant'''\n",
    "\n",
    "det_a_mtrx = np.linalg.det( a_mtrx ) # determinant; \n",
    "\n",
    "print('det(A) =', det_a_mtrx)"
   ]
  },
  {
   "cell_type": "code",
   "execution_count": null,
   "metadata": {},
   "outputs": [],
   "source": [
    "'''Matrix determinant'''\n",
    "\n",
    "det_b_mtrx = np.linalg.det( b_mtrx ) # determinant of a singular matrix\n",
    "\n",
    "print('det(B) =', det_b_mtrx)"
   ]
  },
  {
   "cell_type": "markdown",
   "metadata": {},
   "source": [
    "The inverse matrix is denoted as $\\Amtrx^{-1}$ and is computed as the matrix that multiplies $\\bvec$ and produces the solution $\\xvec$, that is, $\\xvec = \\Amtrx^{-1}\\,\\bvec$."
   ]
  },
  {
   "cell_type": "code",
   "execution_count": null,
   "metadata": {},
   "outputs": [],
   "source": [
    "'''Matrix inverse'''\n",
    "\n",
    "a_mtrx_inv = np.linalg.inv( a_mtrx ) # matrix inverse; per course notes 17\n",
    "\n",
    "print('A^-1 =\\n', a_mtrx_inv)"
   ]
  },
  {
   "cell_type": "markdown",
   "metadata": {},
   "source": [
    "Recall $\\Amtrx^{-1}\\,\\Amtrx = \\Imtrx$ where $\\Imtrx$ is the identity matrix."
   ]
  },
  {
   "cell_type": "code",
   "execution_count": null,
   "metadata": {},
   "outputs": [],
   "source": [
    "'''Identity matrix'''\n",
    "\n",
    "i_mtrx = a_mtrx_inv @ a_mtrx  # identity matrix; per course notes 17\n",
    "\n",
    "print('A^-1 A =\\n',i_mtrx)"
   ]
  },
  {
   "cell_type": "markdown",
   "metadata": {},
   "source": [
    "Using the inverse, the same solution will be found: $\\xvec = \\Amtrx^{-1}\\,\\bvec$."
   ]
  },
  {
   "cell_type": "code",
   "execution_count": null,
   "metadata": {},
   "outputs": [],
   "source": [
    "'''Solution using the inverse'''\n",
    "\n",
    "x_vec_again = a_mtrx_inv @ b_vec  # matrix-vector multiply; per course notes 17\n",
    "\n",
    "print('solution x =', x_vec_again)"
   ]
  },
  {
   "cell_type": "markdown",
   "metadata": {},
   "source": [
    "This is the element-by-element reciprocal of the matrix $(\\Amtrx)^{-1}$, which is very different than the inverse."
   ]
  },
  {
   "cell_type": "code",
   "execution_count": null,
   "metadata": {},
   "outputs": [],
   "source": [
    "'''Inverse power of a matrix'''\n",
    "\n",
    "#a_mtrx_to_negative_1 = a_mtrx**(-1) # this will cause an error (division by zero)"
   ]
  },
  {
   "cell_type": "markdown",
   "metadata": {},
   "source": [
    "Let's look at the determinant of a larger matrix, say $\\Mmtrx$."
   ]
  },
  {
   "cell_type": "code",
   "execution_count": null,
   "metadata": {},
   "outputs": [],
   "source": [
    "'''Generate a larger matrix from an image'''\n",
    "\n",
    "%matplotlib inline\n",
    "from matplotlib import pyplot as plt     # import the pyplot function of the matplotlib package\n",
    "plt.rcParams['figure.figsize'] = [20, 4] # extend the figure size on screen output\n",
    "\n",
    "mtrx = plt.imread('https://raw.githubusercontent.com/dpploy/chen-3170/master/notebooks/images/cermet.png',format='png')\n",
    "\n",
    "m_mtrx = mtrx.astype('float64') # make sure data is a double precision float type\n",
    "\n",
    "plt.figure(1)              # create a figure placeholder\n",
    "plt.imshow( m_mtrx,cmap='gray')\n",
    "plt.title('Cermet',fontsize=14)\n",
    "plt.xlabel('x pixels',fontsize=12)\n",
    "plt.ylabel('y pixels',fontsize=12)\n",
    "plt.show()\n",
    "print('M shape =', m_mtrx.shape)"
   ]
  },
  {
   "cell_type": "code",
   "execution_count": null,
   "metadata": {},
   "outputs": [],
   "source": [
    "'''Larger matrix determinant'''\n",
    "\n",
    "det_m_mtrx = np.linalg.det( m_mtrx )    # determinant\n",
    "\n",
    "print('max(M) =',m_mtrx.max())\n",
    "print('min(M) =',m_mtrx.min())\n",
    "\n",
    "print('det(M) = %10.3e (not an insightful number)'%det_m_mtrx) # formatting numeric output\n",
    "\n",
    "print('rank(M) = ',np.linalg.matrix_rank( m_mtrx, tol=1e-5 ) )"
   ]
  },
  {
   "cell_type": "markdown",
   "metadata": {},
   "source": [
    "Let's *solve* for this matrix with $\\cvec$ as the right side vector, that is, $\\Mmtrx\\,\\xvec = \\cvec$."
   ]
  },
  {
   "cell_type": "code",
   "execution_count": null,
   "metadata": {},
   "outputs": [],
   "source": [
    "'''Solve M x = c and plot x'''\n",
    "\n",
    "c_vec = np.random.random(mtrx.shape[0]) # any c will do it\n",
    "\n",
    "sol = np.linalg.solve( m_mtrx, c_vec ) # solve linear system for A, b\n",
    "\n",
    "plt.figure(2)\n",
    "plt.plot(range(c_vec.size),sol,'k')\n",
    "plt.title('M x = c',fontsize=20)\n",
    "plt.xlabel('n',fontsize=18)\n",
    "plt.ylabel('$c_j$',fontsize=18)\n",
    "print('')"
   ]
  },
  {
   "cell_type": "code",
   "execution_count": null,
   "metadata": {},
   "outputs": [],
   "source": [
    "res_vec = c_vec - m_mtrx @ sol\n",
    "#print('c - M x =',res_vec)\n",
    "print('||c - M x|| =%12.4e'%np.linalg.norm( res_vec ))"
   ]
  },
  {
   "cell_type": "markdown",
   "metadata": {},
   "source": [
    "### [$\\Pmtrx\\,\\Lmtrx\\,\\Umtrx$ factorization](#toc)<a id=\"pyplu\"></a>\n",
    "The factors: $\\Pmtrx$, $\\Lmtrx$, and $\\Umtrx$ where $\\Pmtrx\\,\\Lmtrx\\,\\Umtrx = \\Amtrx$ can be obtained from the SciPy linear algebra package. $\\Pmtrx$ is a permutation matrix if the underlying Gaussian elimination is used to construct the $\\Lmtrx$ and $\\Umtrx$ factors."
   ]
  },
  {
   "cell_type": "code",
   "execution_count": null,
   "metadata": {},
   "outputs": [],
   "source": [
    "'''Import only the linear algebra package'''\n",
    "\n",
    "import scipy.linalg\n",
    "import numpy as np"
   ]
  },
  {
   "cell_type": "code",
   "execution_count": null,
   "metadata": {
    "scrolled": true
   },
   "outputs": [],
   "source": [
    "'''P L U factors of A'''\n",
    "\n",
    "a_mtrx = np.array( [[1, 2,  3],\n",
    "                    [4, 5,  6],\n",
    "                    [7, 8, 10]] )\n",
    "\n",
    "(p_mtrx, l_mtrx, u_mtrx) = scipy.linalg.lu( a_mtrx )\n",
    "\n",
    "print('P =\\n',p_mtrx)\n",
    "print('L =\\n',l_mtrx)\n",
    "print('U =\\n',u_mtrx)\n",
    "print('Checking...')\n",
    "print('PLU - A =\\n', p_mtrx @ l_mtrx @ u_mtrx - a_mtrx)"
   ]
  },
  {
   "cell_type": "code",
   "execution_count": null,
   "metadata": {
    "scrolled": false
   },
   "outputs": [],
   "source": [
    "'''P^-1 = P^T (i.e. the transpose of a permutation matrix is its inverse)'''\n",
    "\n",
    "pinv_mtrx = np.linalg.inv(p_mtrx)\n",
    "\n",
    "print('P^-1 =\\n', pinv_mtrx)\n",
    "print('Checking...')\n",
    "print('P^-1 - P^T =\\n', pinv_mtrx - p_mtrx.transpose())"
   ]
  },
  {
   "cell_type": "code",
   "execution_count": null,
   "metadata": {},
   "outputs": [],
   "source": [
    "'''PLU x = b; that is: Forward: L y = P^-1 b, Backward: U x = y '''\n",
    "\n",
    "b_vec = np.array([1.,2.,3.])\n",
    "y_vec = scipy.linalg.solve(l_mtrx, p_mtrx.transpose() @ b_vec) # L y = P^T b\n",
    "\n",
    "x_vec = scipy.linalg.solve(u_mtrx, y_vec)                      # U x = y\n",
    "\n",
    "print('x =', x_vec)\n",
    "\n",
    "x_vec_gold = scipy.linalg.solve( a_mtrx, b_vec )    # solution using A x = b\n",
    "\n",
    "print('||x - x_gold|| =',scipy.linalg.norm(x_vec-x_vec_gold))"
   ]
  },
  {
   "cell_type": "code",
   "execution_count": null,
   "metadata": {},
   "outputs": [],
   "source": [
    "'''Deterninant of U or L: product of the diagonal'''\n",
    "\n",
    "det_u = np.linalg.det(u_mtrx)\n",
    "\n",
    "print('det(U) = %8.3e'%det_u)\n",
    "\n",
    "diag_vec = np.diagonal(u_mtrx)\n",
    "prod = np.prod(diag_vec)\n",
    "\n",
    "print('diag(U) product = %8.3e'%prod )"
   ]
  },
  {
   "cell_type": "code",
   "execution_count": null,
   "metadata": {},
   "outputs": [],
   "source": [
    "'''Determinant of P (always +1 or -1)'''\n",
    "\n",
    "det_p = np.linalg.det(p_mtrx)\n",
    "\n",
    "print('det(P) = %8.3e'%det_p)"
   ]
  },
  {
   "cell_type": "code",
   "execution_count": null,
   "metadata": {},
   "outputs": [],
   "source": [
    "'''Determinant of A = det(PLU)'''\n",
    "\n",
    "det_l = np.prod( np.diagonal(l_mtrx) )\n",
    "det_plu = det_p * det_l * det_u # last term is det of L\n",
    "\n",
    "print('det(PLU) = %8.3e'%det_plu)\n",
    "print('det(A)   = %8.3e'%np.linalg.det(a_mtrx))"
   ]
  },
  {
   "cell_type": "markdown",
   "metadata": {},
   "source": [
    "### [$\\Lmtrx$ forward solve](#toc)<a id=\"pyl\"></a>\n",
    "A lower triangular matrix like any matrix can be used in a matrix solve."
   ]
  },
  {
   "cell_type": "code",
   "execution_count": null,
   "metadata": {},
   "outputs": [],
   "source": [
    "'''L forward solve'''\n",
    "\n",
    "l_mtrx = np.array( [[1., 0., 0.],   # per course notes \n",
    "                    [2., 3., 0.],\n",
    "                    [4., 5., 6.]] )\n",
    "\n",
    "b_vec = np.array( [1.,2.,3.] )\n",
    "\n",
    "x_vec = np.linalg.solve( l_mtrx, b_vec )\n",
    "\n",
    "np.set_printoptions(precision=3) # one way to control printing of numpy arrays\n",
    "\n",
    "print('x = ',x_vec)"
   ]
  },
  {
   "cell_type": "markdown",
   "metadata": {},
   "source": [
    "### [$\\Umtrx$ backward solve](#toc)<a id=\"pyu\"></a>\n",
    "An upper triangular matrix like any matrix can be used in a matrix solve."
   ]
  },
  {
   "cell_type": "code",
   "execution_count": null,
   "metadata": {},
   "outputs": [],
   "source": [
    "'''U backward solve'''\n",
    "\n",
    "u_mtrx = np.array( [[1., 2., 3.],   # per course notes\n",
    "                    [0, 4., 5.],\n",
    "                    [0., 0., 6.]] )\n",
    "\n",
    "b_vec = np.array( [1.,2.,3.] )\n",
    "\n",
    "x_vec = np.linalg.solve( u_mtrx, b_vec )\n",
    "\n",
    "np.set_printoptions(precision=3) # one way to control printing of numpy arrays\n",
    "print('x = ',x_vec)"
   ]
  },
  {
   "cell_type": "markdown",
   "metadata": {},
   "source": [
    "## [ChEn-3170 Linear Algebra](#toc)<a id=\"courselinalg\"></a>\n",
    "In this course various algorithms need to be programmed. These should be compared to `SciPy` and/or `NumPy`."
   ]
  },
  {
   "cell_type": "code",
   "execution_count": 4,
   "metadata": {},
   "outputs": [],
   "source": [
    "'''Import the NumPy package as usual'''\n",
    "\n",
    "import numpy as np"
   ]
  },
  {
   "cell_type": "markdown",
   "metadata": {},
   "source": [
    "### [$\\Lmtrx$ forward solve](#toc)<a id=\"l\"></a>\n",
    "A lower triangular matrix allows for a forward solve.\n",
    "The algorithm for $\\Lmtrx\\,\\xvec=\\bvec$ is as follows: \n",
    "\n",
    "\\begin{equation*}\n",
    "x_i = \\Bigl(b_i - \\sum\\limits_{j=1}^{i-1} L_{i,j}\\,x_j \\Bigr)\\,L^{-1}_{i,i} \\quad\\ \\forall \\quad\\ i=1,\\ldots,m\n",
    "\\end{equation*}\n",
    "\n",
    "**for $i$ and $j$ with offset 1**. See Python implementation below."
   ]
  },
  {
   "cell_type": "code",
   "execution_count": 5,
   "metadata": {},
   "outputs": [],
   "source": [
    "'''L forward solve'''\n",
    "\n",
    "l_mtrx = np.array( [[1., 0., 0.],   # per course notes \n",
    "                    [2., 3., 0.],\n",
    "                    [4., 5., 6.]] )\n",
    "\n",
    "b_vec = np.array( [1.,2.,3.] )"
   ]
  },
  {
   "cell_type": "code",
   "execution_count": 6,
   "metadata": {},
   "outputs": [],
   "source": [
    "'''Import the L forward solver'''\n",
    "\n",
    "from chen_3170.help import forward_solve # using the forward solve from this course's help package"
   ]
  },
  {
   "cell_type": "code",
   "execution_count": 7,
   "metadata": {},
   "outputs": [
    {
     "name": "stdout",
     "output_type": "stream",
     "text": [
      "Help on function forward_solve in module chen_3170.help:\n",
      "\n",
      "forward_solve(l_mtrx, b_vec, loop_option='use-dot-product')\n",
      "    Performs a forward solve with a lower triangular matrix and right side vector.\n",
      "    \n",
      "    Parameters\n",
      "    ----------\n",
      "    l_mtrx: numpy.ndarray, required\n",
      "            Lower triangular matrix.\n",
      "    b_vec:  numpy.ndarray, required\n",
      "            Right-side vector.\n",
      "    loop_option: string, optional\n",
      "            This is an internal option to demonstrate the usage of an explicit\n",
      "            double loop or an implicit loop using a dot product.\n",
      "            Default: 'use-dot-product'\n",
      "    \n",
      "    Returns\n",
      "    -------\n",
      "    x_vec: numpy.narray\n",
      "           Solution vector returned.\n",
      "    \n",
      "    Examples\n",
      "    --------\n",
      "\n"
     ]
    }
   ],
   "source": [
    "help(forward_solve)"
   ]
  },
  {
   "cell_type": "code",
   "execution_count": 8,
   "metadata": {},
   "outputs": [
    {
     "name": "stdout",
     "output_type": "stream",
     "text": [
      "x =  [ 1.     0.    -0.167]\n"
     ]
    }
   ],
   "source": [
    "'''Usage example'''\n",
    "\n",
    "x_vec = forward_solve( l_mtrx, b_vec )\n",
    "\n",
    "np.set_printoptions(precision=3) # one way to control printing of numpy arrays\n",
    "print('x = ',x_vec)"
   ]
  },
  {
   "cell_type": "code",
   "execution_count": 9,
   "metadata": {},
   "outputs": [
    {
     "name": "stdout",
     "output_type": "stream",
     "text": [
      "#!/usr/bin/env python\r\n",
      "#--*-- coding: utf-8 -*-\r\n",
      "'''\r\n",
      " This file is part of the ChEn-3170 Computational Methods in Chemical Engineering\r\n",
      " course at https://github.com/dpploy/chen-3170\r\n",
      "'''\r\n",
      "def get_triangular_matrix( mode='lower', ndim=None, mtrx=None ):\r\n",
      "    \"\"\"Returns a triangular matrix in-place.\r\n",
      "\r\n",
      "    If a matrix is given, the function will modify the input, in place, into a\r\n",
      "    triangular matrix. The mtrx object will be modified and reflected on the callee side.\r\n",
      "    Otherwise, the function generates a random triangular matrix.\r\n",
      "\r\n",
      "    Parameters\r\n",
      "    ----------\r\n",
      "    mode: string, optional\r\n",
      "          Type of triangular matrix: 'lower' or 'upper'. Defaults to lower\r\n",
      "          triangular.\r\n",
      "    ndim: int, optional\r\n",
      "          Dimension of the square matrix. If a matrix is not provided this\r\n",
      "          argument is required.\r\n",
      "    mtrx: numpy.ndarray, optional\r\n",
      "          square matrix to be turned into a triangular matrix.\r\n",
      "\r\n",
      "    Returns\r\n",
      "    -------\r\n",
      "    mtrx: numpy.ndarray\r\n",
      "          If a matrix was not passed the return is random array. If a matrix\r\n",
      "          was passed, its view is modified.\r\n",
      "\r\n",
      "    Examples\r\n",
      "    --------\r\n",
      "\r\n",
      "    >>> a_mtrx = ce.get_triangular_matrx('lower',3)\r\n",
      "    >>> a_mtrx\r\n",
      "    array([[0.38819556, 0.    , 0.        ],\r\n",
      "       [0.12304746, 0.07522054, 0.        ],\r\n",
      "       [0.96357929, 0.69187941, 0.2878785 ]])\r\n",
      "\r\n",
      "    \"\"\"\r\n",
      "\r\n",
      "    assert ndim is None or mtrx is None, 'ndim or mtrx must be given; not both.'\r\n",
      "    assert not (ndim is None and mtrx is None), 'either ndim or mtrx must be given.'\r\n",
      "    assert mode =='lower' or mode =='upper', 'invalid mode %r.'%mode\r\n",
      "\r\n",
      "    if mtrx is None:\r\n",
      "        import numpy as np\r\n",
      "        mtrx = np.random.random((ndim,ndim))\r\n",
      "    else:\r\n",
      "        assert mtrx.shape[0] == mtrx.shape[1], 'matrix not square.'\r\n",
      "\r\n",
      "    # ready to return matrix  \r\n",
      "    if mode == 'lower':\r\n",
      "        for i in range(mtrx.shape[0]):\r\n",
      "            mtrx[i,i+1:] = 0.0\r\n",
      "    elif mode == 'upper':\r\n",
      "        for j in range(mtrx.shape[1]):\r\n",
      "            mtrx[j+1:,j] = 0.0\r\n",
      "    else:\r\n",
      "        assert False, 'oops. something is very wrong.'\r\n",
      "\r\n",
      "    return mtrx\r\n",
      "#*********************************************************************************\r\n",
      "def forward_solve(l_mtrx, b_vec, loop_option='use-dot-product'):\r\n",
      "    \"\"\"Performs a forward solve with a lower triangular matrix and right side vector.\r\n",
      "\r\n",
      "    Parameters\r\n",
      "    ----------\r\n",
      "    l_mtrx: numpy.ndarray, required\r\n",
      "            Lower triangular matrix.\r\n",
      "    b_vec:  numpy.ndarray, required\r\n",
      "            Right-side vector.\r\n",
      "    loop_option: string, optional\r\n",
      "            This is an internal option to demonstrate the usage of an explicit\r\n",
      "            double loop or an implicit loop using a dot product.\r\n",
      "            Default: 'use-dot-product'\r\n",
      "\r\n",
      "    Returns\r\n",
      "    -------\r\n",
      "    x_vec: numpy.narray\r\n",
      "           Solution vector returned.\r\n",
      "\r\n",
      "    Examples\r\n",
      "    --------\r\n",
      "\r\n",
      "    \"\"\"\r\n",
      "    import numpy as np\r\n",
      "\r\n",
      "    # sanity tests\r\n",
      "\r\n",
      "    # l_mtrx must be np.ndarray\r\n",
      "    assert isinstance(l_mtrx, np.ndarray)\r\n",
      "\r\n",
      "    # l_mtrx must be square\r\n",
      "    assert l_mtrx.shape[0] == l_mtrx.shape[1], 'non-square matrix.'\r\n",
      "\r\n",
      "    assert np.all(np.abs(np.diagonal(l_mtrx)) > 0.0), 'zero value on diagonal.'\r\n",
      "\r\n",
      "    # get i, j of all non zero entries\r\n",
      "    rows_ids, cols_ids = np.where(np.abs(l_mtrx) > 0)\r\n",
      "\r\n",
      "    # non-zero number must be in the lower triangular portion\r\n",
      "    assert np.all(rows_ids >= cols_ids), 'non-triangular matrix.' # test i >= j\r\n",
      "\r\n",
      "    # b_vec must be compatible to l_mtrx\r\n",
      "    assert b_vec.shape[0] == l_mtrx.shape[0], 'incompatible l_mtrx @ b_vec dimensions'\r\n",
      "\r\n",
      "    assert loop_option in ('use-dot-product', 'use-double-loop')\r\n",
      "    # end of sanity test\r\n",
      "\r\n",
      "    m_rows = l_mtrx.shape[0]\r\n",
      "    n_cols = m_rows\r\n",
      "    x_vec = np.zeros(n_cols)\r\n",
      "\r\n",
      "    if loop_option == 'use-dot-product':\r\n",
      "\r\n",
      "        for i in range(m_rows):\r\n",
      "            sum_lx = np.dot(l_mtrx[i, :i], x_vec[:i])\r\n",
      "            #sum_lx = l_mtrx[i,:i] @ x_vec[:i] # matrix-vec mult. alternative to dot product\r\n",
      "            x_vec[i] = (b_vec[i] - sum_lx) / l_mtrx[i, i]\r\n",
      "\r\n",
      "    elif loop_option == 'use-double-loop':\r\n",
      "\r\n",
      "        for i in range(m_rows):\r\n",
      "            sum_lx = 0.0\r\n",
      "            for j in range(i):\r\n",
      "                sum_lx += l_mtrx[i, j] * x_vec[j]\r\n",
      "            x_vec[i] = (b_vec[i] - sum_lx) / l_mtrx[i, i]\r\n",
      "\r\n",
      "    else:\r\n",
      "        assert False, 'not allowed option: %r'%loop_option\r\n",
      "\r\n",
      "    return x_vec\r\n",
      "#*********************************************************************************\r\n",
      "def plot_matrix(mtrx, color_map='bw', title=None):\r\n",
      "    '''\r\n",
      "    Plot matrix as an image.\r\n",
      "\r\n",
      "    Parameters\r\n",
      "    ----------\r\n",
      "    mtrx: numpy.ndarray, required\r\n",
      "          Matrix data.\r\n",
      "    color_map: str, optional\r\n",
      "               Color map for image: 'bw' black and white\r\n",
      "    title: str, optional\r\n",
      "           Title for plot.\r\n",
      "\r\n",
      "    Returns\r\n",
      "    -------\r\n",
      "    None:\r\n",
      "\r\n",
      "    Examples\r\n",
      "    --------\r\n",
      "\r\n",
      "    '''\r\n",
      "\r\n",
      "    # sanity check\r\n",
      "    import numpy as np\r\n",
      "    assert isinstance(mtrx,np.ndarray)\r\n",
      "    import numpy as np\r\n",
      "    from matplotlib import pyplot as plt # import the pyplot function of the matplotlib package\r\n",
      "    # end of sanity check\r\n",
      "\r\n",
      "    plt.rcParams['figure.figsize'] = [20, 4] # extend the figure size on screen output\r\n",
      "\r\n",
      "    plt.figure(1)\r\n",
      "    if color_map == 'bw':\r\n",
      "        plt.imshow(np.abs(mtrx),cmap='gray')\r\n",
      "    else:\r\n",
      "        plt.imshow(mtrx,cmap=color_map)\r\n",
      "    if title is not None:\r\n",
      "        plt.title(title,fontsize=14)\r\n",
      "    print('matrix shape =',mtrx.shape)  # inspect the array shape\r\n",
      "\r\n",
      "    plt.show()\r\n",
      "\r\n",
      "    return\r\n",
      "#*********************************************************************************\r\n",
      "def print_reactions(reactions):\r\n",
      "    '''\r\n",
      "    Nice printout of a reactions list.\r\n",
      "\r\n",
      "    Parameters\r\n",
      "    ----------\r\n",
      "    reactions: list(str)\r\n",
      "          Reactions in the form of a list.\r\n",
      "\r\n",
      "    Returns\r\n",
      "    -------\r\n",
      "    None:\r\n",
      "\r\n",
      "    Examples\r\n",
      "    --------\r\n",
      "\r\n",
      "    '''\r\n",
      "    # sanity check\r\n",
      "    assert isinstance(reactions,list)\r\n",
      "    # end of sanity check\r\n",
      "\r\n",
      "    for r in reactions:\r\n",
      "        i = reactions.index(r)\r\n",
      "        print('r%s'%i,': ',r)\r\n",
      "\r\n",
      "    n_reactions = len(reactions)\r\n",
      "    print('n_reactions =',n_reactions)\r\n",
      "\r\n",
      "    return\r\n",
      "#*********************************************************************************\r\n",
      "def print_reaction_sub_mechanisms( sub_mechanisms, mode=None, print_n_sub_mech=None ):\r\n",
      "    '''\r\n",
      "    Nice printout of a scored reaction sub-mechanism list\r\n",
      "\r\n",
      "    Parameters\r\n",
      "    ----------\r\n",
      "    sub_mechanims: list(str), required\r\n",
      "          Sorted reaction mechanims in the form of a list.\r\n",
      "\r\n",
      "    mode: string, optional\r\n",
      "          Printing mode: all, top, None. Default: all\r\n",
      "\r\n",
      "    Returns\r\n",
      "    -------\r\n",
      "    None:\r\n",
      "\r\n",
      "    Examples\r\n",
      "    --------\r\n",
      "\r\n",
      "    '''\r\n",
      "    # sanity check\r\n",
      "    assert mode is None or print_n_sub_mech is None\r\n",
      "    assert mode =='top' or mode =='all' or mode==None\r\n",
      "    assert isinstance(print_n_sub_mech,int) or print_n_sub_mech is None\r\n",
      "    # end of sanity check\r\n",
      "\r\n",
      "    if mode is None and print_n_sub_mech is None:\r\n",
      "        mode = 'all'\r\n",
      "\r\n",
      "    if print_n_sub_mech is None:\r\n",
      "        if mode == 'all':\r\n",
      "            print_n_sub_mech = len(sub_mechanisms)\r\n",
      "        elif mode == 'top':\r\n",
      "            scores = [sm[3] for sm in sub_mechanisms]\r\n",
      "            max_score = max(scores)\r\n",
      "            tmp = list()\r\n",
      "            for s in scores:\r\n",
      "                if s == max_score:\r\n",
      "                    tmp.append(s)\r\n",
      "            print_n_sub_mech = len(tmp)\r\n",
      "        else:\r\n",
      "            assert False, 'illegal mode %r'%mode\r\n",
      "\r\n",
      "    for rm in sub_mechanisms:\r\n",
      "        if sub_mechanisms.index(rm) > print_n_sub_mech-1: continue\r\n",
      "        print('Reaction Sub Mechanism: %s (score %4.2f)'%(sub_mechanisms.index(rm),rm[3]))\r\n",
      "        for (i,r) in zip( rm[0], rm[1] ):\r\n",
      "            print('r%s'%i,r)\r\n",
      "\r\n",
      "    return\r\n",
      "#*********************************************************************************\r\n",
      "def read_arrhenius_experimental_data(filename):\r\n",
      "    '''\r\n",
      "    Read k versus T data for fitting an Arrhenius rate constant expression.\r\n",
      "\r\n",
      "    Parameters\r\n",
      "    ----------\r\n",
      "    filename: string, required\r\n",
      "            File name of data file including the path.\r\n",
      "\r\n",
      "    Returns\r\n",
      "    -------\r\n",
      "    r_cte: float\r\n",
      "        Universal gas constant.\r\n",
      "    r_cte: string\r\n",
      "        Universal gas constant unit.\r\n",
      "    n_pts: int\r\n",
      "        Number of data points\r\n",
      "    temp: np.ndarray, float\r\n",
      "        Temperature data.\r\n",
      "    k_cte: np.ndarray, float\r\n",
      "        Reaction rate constant data.\r\n",
      "\r\n",
      "    Examples\r\n",
      "    --------\r\n",
      "\r\n",
      "    '''\r\n",
      "\r\n",
      "    import io                     # import io module\r\n",
      "    finput = open(filename, 'rt') # create file object\r\n",
      "\r\n",
      "    import numpy as np\r\n",
      "\r\n",
      "    for line in finput:\r\n",
      "\r\n",
      "        line = line.strip()\r\n",
      "\r\n",
      "        if line[0] == '#': # skip comments in the file\r\n",
      "            continue\r\n",
      "\r\n",
      "        var_line = line.split(' = ')\r\n",
      "\r\n",
      "        if var_line[0] == 'r_cte':\r\n",
      "            r_cte = float(var_line[1].split(' ')[0])\r\n",
      "            r_cte_units = var_line[1].split(' ')[1]\r\n",
      "        elif var_line[0] == 'n_pts':\r\n",
      "            n_pts = int(var_line[1])\r\n",
      "            temp  = np.zeros(n_pts)\r\n",
      "            k_cte = np.zeros(n_pts)\r\n",
      "            idx   = 0 # counter\r\n",
      "        else:\r\n",
      "            data = line.split(' ')\r\n",
      "            temp[idx]  = float(data[0])\r\n",
      "            k_cte[idx] = float(data[1])\r\n",
      "            idx += 1\r\n",
      "\r\n",
      "    return (r_cte, r_cte_units, n_pts, temp, k_cte)\r\n",
      "#*********************************************************************************\r\n",
      "def plot_arrhenius_experimental_data( temp, k_cte ):\r\n",
      "\r\n",
      "    '''\r\n",
      "    Plot T versus k data for fitting an Arrhenius rate constant expression.\r\n",
      "\r\n",
      "    Parameters\r\n",
      "    ----------\r\n",
      "    temp: nd.array, required\r\n",
      "        Temperature data.\r\n",
      "    k_cte: nd.array, required\r\n",
      "        Reaction rate constant data.\r\n",
      "\r\n",
      "    Returns\r\n",
      "    -------\r\n",
      "    None: None\r\n",
      "\r\n",
      "    Examples\r\n",
      "    --------\r\n",
      "\r\n",
      "    '''\r\n",
      "\r\n",
      "    import matplotlib.pyplot as plt\r\n",
      "\r\n",
      "    plt.figure(1, figsize=(7, 7))\r\n",
      "\r\n",
      "    plt.plot(temp, k_cte,'r*',label='experimental')\r\n",
      "    plt.xlabel(r'$T$ [K]',fontsize=14)\r\n",
      "    plt.ylabel(r'$k$ [s$^{-1}$]',fontsize=14)\r\n",
      "    plt.title('Arrhenius Rxn Rate Constant Data',fontsize=20)\r\n",
      "    plt.legend(loc='best',fontsize=12)\r\n",
      "    plt.grid(True)\r\n",
      "    plt.show()\r\n",
      "    print('')\r\n",
      "\r\n",
      "    return\r\n",
      "#*********************************************************************************\r\n",
      "def color_map( num_colors ):\r\n",
      "    '''\r\n",
      "    Nice colormap for plotting.\r\n",
      "\r\n",
      "    Parameters\r\n",
      "    ----------\r\n",
      "    num_colors: int, required\r\n",
      "        Number of colors.\r\n",
      "\r\n",
      "    Returns\r\n",
      "    -------\r\n",
      "    color_map: list(tuple(R,G,B,A))\r\n",
      "        List with colors interpolated from internal list of primary colors.\r\n",
      "\r\n",
      "    '''\r\n",
      "\r\n",
      "    assert num_colors >= 1\r\n",
      "\r\n",
      "    import numpy as np\r\n",
      "\r\n",
      "    # primary colors\r\n",
      "    # use the RGBA decimal code\r\n",
      "    red     = np.array((1,0,0,1))\r\n",
      "    blue    = np.array((0,0,1,1))\r\n",
      "    magenta = np.array((1,0,1,1))\r\n",
      "    green   = np.array((0,1,0,1))\r\n",
      "    orange  = np.array((1,0.5,0,1))\r\n",
      "    black   = np.array((0,0,0,1))\r\n",
      "    yellow  = np.array((1,1,0,1))\r\n",
      "    cyan    = np.array((0,1,1,1))\r\n",
      "\r\n",
      "    # order the primary colors here\r\n",
      "    color_map = list()\r\n",
      "    color_map = [red, blue, orange, magenta, green, yellow, cyan, black]\r\n",
      "\r\n",
      "    num_primary_colors = len(color_map)\r\n",
      "\r\n",
      "    if num_colors <= num_primary_colors:\r\n",
      "        return color_map[:num_colors]\r\n",
      "\r\n",
      "    # interpolate primary colors\r\n",
      "    while len(color_map) < num_colors:\r\n",
      "        j = 0\r\n",
      "        for i in range(len(color_map)-1):\r\n",
      "            color_a = color_map[2*i]\r\n",
      "            color_b = color_map[2*i+1]\r\n",
      "            mid_color = (color_a+color_b)/2.0\r\n",
      "            j = 2*i+1\r\n",
      "            color_map.insert(j,mid_color) # insert before index\r\n",
      "            if len(color_map) == num_colors:\r\n",
      "                break\r\n",
      "\r\n",
      "    return color_map\r\n",
      "#*********************************************************************************\r\n",
      "def get_covid_19_us_data( type='deaths' ):\r\n",
      "    '''\r\n",
      "    Load COVID-19 pandemic cumulative data from:\r\n",
      "\r\n",
      "     https://github.com/CSSEGISandData/COVID-19.\r\n",
      "\r\n",
      "    Parameters\r\n",
      "    ----------\r\n",
      "    type:  str, optional\r\n",
      "            Type of data. Deaths ('deaths') and confirmed cases ('confirmed').\r\n",
      "            Default: 'deaths'.\r\n",
      "\r\n",
      "    Returns\r\n",
      "    -------\r\n",
      "    data: tuple(int, list(str), list(int))\r\n",
      "           (population, dates, cases)\r\n",
      "\r\n",
      "    '''\r\n",
      "\r\n",
      "    import pandas as pd\r\n",
      "\r\n",
      "    if type == 'deaths':\r\n",
      "        df = pd.read_csv('https://raw.githubusercontent.com/CSSEGISandData/COVID-19/master/csse_covid_19_data/csse_covid_19_time_series/time_series_covid19_deaths_US.csv')\r\n",
      "        #df.to_html('covid_19_deaths.html')\r\n",
      "\r\n",
      "    elif type == 'confirmed':\r\n",
      "        df = pd.read_csv('https://raw.githubusercontent.com/CSSEGISandData/COVID-19/master/csse_covid_19_data/csse_covid_19_time_series/time_series_covid19_confirmed_US.csv')\r\n",
      "        df_pop = pd.read_csv('https://raw.githubusercontent.com/CSSEGISandData/COVID-19/master/csse_covid_19_data/csse_covid_19_time_series/time_series_covid19_deaths_US.csv')\r\n",
      "        #df.to_html('covid_19_deaths.html')\r\n",
      "        #df.to_html('covid_19_confirmed.html')\r\n",
      "\r\n",
      "    else:\r\n",
      "        assert True, 'invalid query type: %r (valid: \"deaths\", \"confirmed\"'%(type)\r\n",
      "\r\n",
      "    df = df.drop(['UID','iso2','iso3','Combined_Key','code3','FIPS','Lat', 'Long_','Country_Region'],axis=1)\r\n",
      "    df = df.rename(columns={'Province_State':'state/province','Admin2':'city'})\r\n",
      "\r\n",
      "    import numpy as np\r\n",
      "\r\n",
      "    state_names = list()\r\n",
      "\r\n",
      "    state_names_tmp = list()\r\n",
      "\r\n",
      "    for (i,istate) in enumerate(df['state/province']):\r\n",
      "        if istate.strip() == 'Wyoming' and df.loc[i,'city']=='Weston':\r\n",
      "            break\r\n",
      "        state_names_tmp.append(istate)\r\n",
      "\r\n",
      "    state_names_set = set(state_names_tmp)\r\n",
      "\r\n",
      "    state_names = list(state_names_set)\r\n",
      "    state_names = sorted(state_names)\r\n",
      "\r\n",
      "    dates = np.array(list(df.columns[3:]))\r\n",
      "\r\n",
      "    population = [0]*len(state_names)\r\n",
      "    cases = np.zeros( (len(df.columns[3:]),len(state_names)), dtype=np.float64)\r\n",
      "\r\n",
      "    for (i,istate) in enumerate(df['state/province']):\r\n",
      "        if istate.strip() == 'Wyoming' and df.loc[i,'city']=='Weston':\r\n",
      "            break\r\n",
      "\r\n",
      "        state_id = state_names.index(istate)\r\n",
      "        if type == 'confirmed':\r\n",
      "            population[state_id] += int(df_pop.loc[i,'Population'])\r\n",
      "        else:\r\n",
      "            population[state_id] += int(df.loc[i,'Population'])\r\n",
      "\r\n",
      "        cases[:,state_id] += np.array(list(df.loc[i, df.columns[3:]]))\r\n",
      "\r\n",
      "    return ( state_names, population, dates, cases )\r\n",
      "#*********************************************************************************\r\n",
      "def get_covid_19_global_data( type='deaths', distribution=True, cumulative=False ):\r\n",
      "    '''\r\n",
      "    Load COVID-19 pandemic cumulative data from:\r\n",
      "\r\n",
      "        https://github.com/CSSEGISandData/COVID-19\r\n",
      "\r\n",
      "    Parameters\r\n",
      "    ----------\r\n",
      "    type: str, optional\r\n",
      "        Type of data. Deaths ('deaths') and confirmed cases ('confirmed').\r\n",
      "        Default: 'deaths'.\r\n",
      "\r\n",
      "    distribution: bool, optional\r\n",
      "        Distribution of new cases over dates.\r\n",
      "        Default: True\r\n",
      "\r\n",
      "    cumulative: bool, optional\r\n",
      "        Cumulative number of cases over dates.\r\n",
      "        Default: False\r\n",
      "\r\n",
      "    Returns\r\n",
      "    -------\r\n",
      "    data: tuple(int, list(str), list(int))\r\n",
      "           (contry_names, dates, cases)\r\n",
      "\r\n",
      "    '''\r\n",
      "\r\n",
      "    if cumulative is True:\r\n",
      "        distribution = False\r\n",
      "\r\n",
      "    import pandas as pd\r\n",
      "\r\n",
      "    if type == 'deaths':\r\n",
      "        df = pd.read_csv('https://raw.githubusercontent.com/CSSEGISandData/COVID-19/master/csse_covid_19_data/csse_covid_19_time_series/time_series_covid19_deaths_global.csv')\r\n",
      "        #df.to_html('covid_19_global_deaths.html')\r\n",
      "\r\n",
      "    else:\r\n",
      "        assert True, 'invalid query type: %r (valid: \"deaths\"'%(type)\r\n",
      "\r\n",
      "    df = df.drop(['Lat', 'Long'],axis=1)\r\n",
      "    df = df.rename(columns={'Province/State':'state/province','Country/Region':'country/region'})\r\n",
      "\r\n",
      "    import numpy as np\r\n",
      "\r\n",
      "    country_names = list()\r\n",
      "\r\n",
      "    country_names_tmp = list()\r\n",
      "\r\n",
      "    for (i,icountry) in enumerate(df['country/region']):\r\n",
      "        country_names_tmp.append(icountry)\r\n",
      "\r\n",
      "    country_names_set = set(country_names_tmp)\r\n",
      "\r\n",
      "    country_names = list(country_names_set)\r\n",
      "    country_names = sorted(country_names)\r\n",
      "\r\n",
      "    dates = np.array(list(df.columns[2:]))\r\n",
      "\r\n",
      "    cases = np.zeros( (len(df.columns[2:]),len(country_names)), dtype=np.float64)\r\n",
      "\r\n",
      "    for (i,icountry) in enumerate(df['country/region']):\r\n",
      "\r\n",
      "        country_id = country_names.index(icountry)\r\n",
      "\r\n",
      "        cases[:,country_id] += np.array(list(df.loc[i, df.columns[2:]]))\r\n",
      "\r\n",
      "    if distribution:\r\n",
      "\r\n",
      "        for j in range(cases.shape[1]):\r\n",
      "            cases[:,j] = np.round(np.gradient( cases[:,j] ),0)\r\n",
      "\r\n",
      "    return ( country_names, dates, cases )\r\n",
      "#*********************************************************************************\r\n"
     ]
    }
   ],
   "source": [
    "'''View the source code in the notebook'''\n",
    "\n",
    "!cat \"chen_3170/help.py\" # ugly but works for now"
   ]
  },
  {
   "cell_type": "markdown",
   "metadata": {},
   "source": [
    "```python\n",
    "def forward_solve(l_mtrx, b_vec, loop_option='use-dot-product'):\n",
    "    \"\"\"Performs a forward solve with a lower triangular matrix and right side vector.\n",
    "\n",
    "    Parameters\n",
    "    ----------\n",
    "    l_mtrx: numpy.ndarray, required\n",
    "            Lower triangular matrix.\n",
    "    b_vec:  numpy.ndarray, required\n",
    "            Right-side vector.\n",
    "    loop_option: string, optional\n",
    "            This is an internal option to demonstrate the usage of an explicit\n",
    "            double loop or an implicit loop using a dot product.\n",
    "            Default: 'use-dot-product'\n",
    "\n",
    "    Returns\n",
    "    -------\n",
    "    x_vec: numpy.narray\n",
    "           Solution vector returned.\n",
    "\n",
    "    Examples\n",
    "    --------\n",
    "\n",
    "    \"\"\"\n",
    "    import numpy as np\n",
    "\n",
    "    # sanity tests\n",
    "\n",
    "    # l_mtrx must be np.ndarray\n",
    "    assert isinstance(l_mtrx, np.ndarray)\n",
    "\n",
    "    # l_mtrx must be square\n",
    "    assert l_mtrx.shape[0] == l_mtrx.shape[1], 'non-square matrix.'\n",
    "\n",
    "    assert np.all(np.abs(np.diagonal(l_mtrx)) > 0.0), 'zero value on diagonal.'\n",
    "\n",
    "    # get i, j of all non zero entries\n",
    "    rows_ids, cols_ids = np.where(np.abs(l_mtrx) > 0)\n",
    "\n",
    "    # non-zero number must be in the lower triangular portion\n",
    "    assert np.all(rows_ids >= cols_ids), 'non-triangular matrix.' # test i >= j\n",
    "\n",
    "    # b_vec must be compatible to l_mtrx\n",
    "    assert b_vec.shape[0] == l_mtrx.shape[0], 'incompatible l_mtrx @ b_vec dimensions'\n",
    "\n",
    "    assert loop_option in ('use-dot-product', 'use-double-loop')\n",
    "    # end of sanity test\n",
    "\n",
    "    m_rows = l_mtrx.shape[0]\n",
    "    n_cols = m_rows\n",
    "    x_vec = np.zeros(n_cols)\n",
    "\n",
    "    if loop_option == 'use-dot-product':\n",
    "\n",
    "        for i in range(m_rows):\n",
    "            sum_lx = np.dot(l_mtrx[i, :i], x_vec[:i])\n",
    "            #sum_lx = l_mtrx[i,:i] @ x_vec[:i] # matrix-vec mult. alternative to dot product\n",
    "            x_vec[i] = (b_vec[i] - sum_lx) / l_mtrx[i, i]\n",
    "\n",
    "    elif loop_option == 'use-double-loop':\n",
    "\n",
    "        for i in range(m_rows):\n",
    "            sum_lx = 0.0\n",
    "            for j in range(i):\n",
    "                sum_lx += l_mtrx[i, j] * x_vec[j]\n",
    "            x_vec[i] = (b_vec[i] - sum_lx) / l_mtrx[i, i]\n",
    "\n",
    "    else:\n",
    "        assert False, 'not allowed option: %r'%loop_option\n",
    "\n",
    "    return x_vec\n",
    "```"
   ]
  },
  {
   "cell_type": "markdown",
   "metadata": {},
   "source": [
    "A lower triangular matrix allows for a forward solve.\n",
    "The algorithm for $\\Lmtrx\\,\\xvec=\\bvec$ is as follows: \n",
    "\n",
    "\\begin{equation*}\n",
    "x_i = \\Bigl(b_i - \\sum\\limits_{j=1}^{i-1} L_{i,j}\\,x_j \\Bigr)\\,L^{-1}_{i,i} \\quad\\ \\forall \\quad\\ i=1,\\ldots,m\n",
    "\\end{equation*}\n",
    "\n",
    "**for $i$ and $j$ with offset 1**. Recall that `NumPy` and `Python` have offset 0 for their sequence data types."
   ]
  },
  {
   "cell_type": "markdown",
   "metadata": {},
   "source": [
    "### [$\\Umtrx$ backward solve](#toc)<a id=\"u\"></a>\n",
    "A upper triangular matrix allows for a backward solve.\n",
    "The algorithm for $\\Umtrx\\,\\xvec=\\bvec$ is as follows: \n",
    "\n",
    "\\begin{equation*} x_i = \\Bigl(b_i - \\sum\\limits_{j=i+1}^{m} U_{i,j}\\,x_j \\Bigr)\\,U^{-1}_{i,i} \\quad\\ \\forall \\quad\\ i=m,\\ldots,1\n",
    "\\end{equation*}\n",
    "\n",
    "**for $i$ and $j$ with offset 1**. Recall that `NumPy` and `Python` have offset 0 for their sequence data types."
   ]
  },
  {
   "cell_type": "code",
   "execution_count": 10,
   "metadata": {},
   "outputs": [
    {
     "name": "stdout",
     "output_type": "stream",
     "text": [
      "x =  [-0.25  -0.125  0.5  ]\n"
     ]
    }
   ],
   "source": [
    "'''U backward solve'''\n",
    "\n",
    "u_mtrx = np.array( [[1., 2., 3.],   # per course notes\n",
    "                    [0 , 4., 5.],\n",
    "                    [0., 0., 6.]] )\n",
    "\n",
    "b_vec = np.array( [1.,2.,3.] )\n",
    "\n",
    "try:    \n",
    "    from chen_3170.toolkit import backward_solve   \n",
    "except ModuleNotFoundError:\n",
    "    assert False, 'You need to provide your own backward_solve function here. Bailing out.'\n",
    "\n",
    "x_vec = backward_solve( u_mtrx, b_vec )\n",
    "\n",
    "np.set_printoptions(precision=3) # one way to control printing of numpy arrays\n",
    "print('x = ',x_vec)"
   ]
  },
  {
   "cell_type": "markdown",
   "metadata": {},
   "source": [
    "### [Verification of solver accuracy](#toc)<a id=\"accuracy\"></a>"
   ]
  },
  {
   "cell_type": "markdown",
   "metadata": {},
   "source": [
    "TODO"
   ]
  },
  {
   "cell_type": "code",
   "execution_count": 11,
   "metadata": {},
   "outputs": [
    {
     "name": "stdout",
     "output_type": "stream",
     "text": [
      "[[1.    0.054 0.887 0.88  0.133 ... 0.201 0.388 0.85  0.465 0.052]\n",
      " [0.    1.    0.124 0.512 0.137 ... 0.392 0.735 0.968 0.293 0.092]\n",
      " [0.    0.    1.    0.502 0.416 ... 0.787 0.826 0.759 0.142 0.654]\n",
      " [0.    0.    0.    1.    0.896 ... 0.878 0.978 0.162 0.325 0.8  ]\n",
      " [0.    0.    0.    0.    1.    ... 0.607 0.825 0.27  0.346 0.25 ]\n",
      " ...\n",
      " [0.    0.    0.    0.    0.    ... 1.    0.424 0.371 0.748 0.311]\n",
      " [0.    0.    0.    0.    0.    ... 0.    1.    0.924 0.81  0.159]\n",
      " [0.    0.    0.    0.    0.    ... 0.    0.    1.    0.132 0.096]\n",
      " [0.    0.    0.    0.    0.    ... 0.    0.    0.    1.    0.231]\n",
      " [0.    0.    0.    0.    0.    ... 0.    0.    0.    0.    1.   ]]\n",
      "float64\n",
      "rank = 549\n",
      "||b-Ux|| = 0.00037560635460372844\n",
      "||b-Uz|| = 3.868503972075302e-05\n",
      "||x - z||= 0.0023363435301025563\n"
     ]
    }
   ],
   "source": [
    "from chen_3170.help import get_triangular_matrix\n",
    "\n",
    "u_mtrx = get_triangular_matrix('upper',550)\n",
    "\n",
    "for i in range(550):\n",
    "    u_mtrx[i,i] = 1.0\n",
    "    \n",
    "b_vec = np.ones(550)\n",
    "\n",
    "np.set_printoptions( precision=3, threshold=1000, edgeitems=5, linewidth=100 )\n",
    "print(u_mtrx)\n",
    "print(u_mtrx.dtype)\n",
    "print('rank =',np.linalg.matrix_rank(u_mtrx))\n",
    "\n",
    "x_vec = backward_solve(u_mtrx, b_vec)\n",
    "print('||b-Ux|| =',np.linalg.norm(b_vec-u_mtrx@x_vec))\n",
    "\n",
    "z_vec = np.linalg.solve(u_mtrx,b_vec)\n",
    "print('||b-Uz|| =',np.linalg.norm(b_vec-u_mtrx@z_vec))\n",
    "\n",
    "#z_vec - u_mtrx @ b_vec\n",
    "print('||x - z||=',np.linalg.norm(x_vec-z_vec))"
   ]
  },
  {
   "cell_type": "markdown",
   "metadata": {},
   "source": [
    "### [$\\Amtrx = \\Lmtrx\\,\\Umtrx$ factorization](#toc)<a id=\"lu\"></a>\n",
    "$\\Lmtrx\\,\\Umtrx$ factorization algorithm (without using pivoting) for a square matrix $\\overset{(m \\times m)}{\\Amtrx}$ computes the $\\Lmtrx\\,\\Umtrx$ factors. The factorization is obtained by elimination steps $k = 1,\\ldots,m-1$ so that \n",
    "\n",
    "\\begin{equation*}\n",
    " A^{(k+1)}_{i,j} = A^{(k)}_{i,j} - A^{(k)}_{k,j}\\, m_{i,k} \\quad\\ \\forall\\ i=k+1,\\ldots,m \\quad\\ \\text{and} \\quad\\ j=k,\\ldots,m\n",
    "\\end{equation*}\n",
    "\n",
    "where the multipliers $m_{i,k}$ are given by $m_{i,k} = \\frac{A^{(k)}_{i,k}}{A^{(k)}_{k,k}}$. When $k = m-1$, $A^{(m)}_{i,j}$, is upper triangular, that is, $U_{i,j} = A^{(m)}_{i,j}$ . The lower triangular matrix is obtained using the multipliers $m_{i,k}$, that is $L_{i,j} = m_{i,j} \\ \\forall \\ i>j$,  $L_{i,i}=1$, and $L_{i,j}=0 \\ \\forall \\ i<j$."
   ]
  },
  {
   "cell_type": "code",
   "execution_count": 36,
   "metadata": {},
   "outputs": [
    {
     "name": "stdout",
     "output_type": "stream",
     "text": [
      "L =\n",
      " [[1. 0. 0.]\n",
      " [4. 1. 0.]\n",
      " [7. 2. 1.]]\n",
      "U =\n",
      " [[ 1.  2.  3.]\n",
      " [ 0. -3. -6.]\n",
      " [ 0.  0.  1.]]\n",
      "\n",
      "Checking...\n",
      "LU - A =\n",
      " [[0. 0. 0.]\n",
      " [0. 0. 0.]\n",
      " [0. 0. 0.]]\n"
     ]
    }
   ],
   "source": [
    "'''L U factors of A'''\n",
    "\n",
    "a_mtrx = np.array( [[1., 2.,  3.],\n",
    "                    [4., 5.,  6.],\n",
    "                    [7., 8., 10.]] )\n",
    "\n",
    "try:    \n",
    "    from chen_3170.toolkit import lu_factorization   \n",
    "except ModuleNotFoundError:\n",
    "    assert False, 'You need to provide your own lu_factorization function here. Bailing out.'\n",
    "\n",
    "(l_mtrx, u_mtrx, _) = lu_factorization( a_mtrx )\n",
    "\n",
    "print('L =\\n',l_mtrx)\n",
    "print('U =\\n',u_mtrx)\n",
    "print('')\n",
    "print('Checking...')\n",
    "print('LU - A =\\n', l_mtrx @ u_mtrx - a_mtrx)"
   ]
  },
  {
   "cell_type": "markdown",
   "metadata": {},
   "source": [
    "### [$\\Pmtrx\\,\\Amtrx = \\Lmtrx\\,\\Umtrx$ factorization](#toc)<a id=\"plu\"></a>\n",
    "The factors: $\\Pmtrx$, $\\Lmtrx$, and $\\Umtrx$ where $\\Lmtrx\\,\\Umtrx = \\Pmtrx\\,\\Amtrx$ can be obtained from **partial pivoting** strategy to the $\\Lmtrx\\,\\Umtrx$ factorization algorithm shown above. $\\Pmtrx$ is a row permutation matrix obtained by the underlying Gaussian elimination used to construct the $\\Lmtrx$ and $\\Umtrx$ factors.\n",
    "\n",
    "Program a $\\Lmtrx\\,\\Umtrx$ factorization algorithm (using partial pivoting) for a square matrix $\\overset{(m \\times m)}{\\Amtrx}$ and compute the $\\Pmtrx\\,\\Lmtrx\\,\\Umtrx$ factors. \n",
    "\n",
    "The factorization is obtained by elimination steps $k = 1,\\ldots,m-1$ so that $A^{(k+1)}_{i,j} = A^{(k)}_{i,j} - A^{(k)}_{k,j}\\, m_{i,k} \\ \\forall\\ i=k+1,\\ldots,m \\ \\text{and}\\ j=k,\\ldots,m$ where the multipliers $m_{i,k}$ are given by $m_{i,k} = \\frac{A^{(k)}_{i,k}}{A^{(k)}_{k,k}}$. When $k = m-1$, $A^{(m)}_{i,j}$, is upper triangular, that is, $U_{i,j} = A^{(m)}_{i,j}$ . The lower triangular matrix is obtained using the multipliers $m_{i,k}$, that is $L_{i,j} = m_{i,j} \\ \\forall \\ i>j$,  $L_{i,i}=1$, and $L_{i,j}=0 \\ \\forall \\ i<j$. However, every $k$-step selects a pivot $A^{(k)}_{k,k}$ of maximum absolute value via row\n",
    "exchanges recorded in the permutation matrix $\\Pmtrx$."
   ]
  },
  {
   "cell_type": "code",
   "execution_count": 37,
   "metadata": {},
   "outputs": [
    {
     "name": "stdout",
     "output_type": "stream",
     "text": [
      "P =\n",
      " [[0. 0. 1.]\n",
      " [1. 0. 0.]\n",
      " [0. 1. 0.]]\n",
      "L =\n",
      " [[1.  0.  0. ]\n",
      " [0.1 1.  0. ]\n",
      " [0.6 0.5 1. ]]\n",
      "U =\n",
      " [[ 7.0e+00  8.0e+00  1.0e+01]\n",
      " [ 0.0e+00  8.6e-01  1.6e+00]\n",
      " [ 0.0e+00  5.6e-17 -5.0e-01]]\n",
      "\n",
      "Checking...\n",
      "LU - PA =\n",
      " [[0. 0. 0.]\n",
      " [0. 0. 0.]\n",
      " [0. 0. 0.]]\n"
     ]
    }
   ],
   "source": [
    "'''P L U factors of A'''\n",
    "\n",
    "a_mtrx = np.array( [[1., 2.,  3.],\n",
    "                    [4., 5.,  6.],\n",
    "                    [7., 8., 10.]] )\n",
    "\n",
    "try:    \n",
    "    from chen_3170.toolkit import lu_factorization   \n",
    "except ModuleNotFoundError:\n",
    "    assert False, 'You need to provide your own lu_factorization function here. Bailing out.'\n",
    "\n",
    "(p_mtrx, l_mtrx, u_mtrx, _) = lu_factorization( a_mtrx, pivoting_option='partial' )\n",
    "\n",
    "print('P =\\n',p_mtrx)\n",
    "print('L =\\n',l_mtrx)\n",
    "print('U =\\n',u_mtrx)\n",
    "print('')\n",
    "print('Checking...')\n",
    "print('LU - PA =\\n', l_mtrx @ u_mtrx - p_mtrx @ a_mtrx)"
   ]
  },
  {
   "cell_type": "markdown",
   "metadata": {},
   "source": [
    "### [$\\Pmtrx\\,\\Amtrx\\,\\Qmtrx = \\Lmtrx\\,\\Umtrx$ factorization](#toc)<a id=\"pqlu\"></a>\n",
    "The factors: $\\Pmtrx$, $\\Qmtrx$, $\\Lmtrx$, and $\\Umtrx$ where $\\Lmtrx\\,\\Umtrx = \\Pmtrx\\,\\Amtrx\\,\\Qmtrx$ can be obtained from a user-developed algorithm with **complete pivoting**. $\\Pmtrx$ is a row permutation matrix and $\\Qmtrx$ is a column permutation matrix, obtained by the underlying Gaussian elimination used to construct the $\\Lmtrx$ and $\\Umtrx$ factors.\n",
    "\n",
    "Program a $\\Lmtrx\\,\\Umtrx$ factorization algorithm (using complete pivoting) for a square matrix $\\overset{(m \\times m)}{\\Amtrx}$ and compute the $\\Pmtrx\\,,\\Qmtrx\\,,\\Lmtrx\\,,\\Umtrx$ factors. The factorization is obtained by elimination steps $k = 1,\\ldots,m-1$ so that $A^{(k+1)}_{i,j} = A^{(k)}_{i,j} - A^{(k)}_{k,j}\\, m_{i,k} \\ \\forall\\ i=k+1,\\ldots,m \\ \\text{and}\\ j=k,\\ldots,m$ where the multipliers $m_{i,k}$ are given by $m_{i,k} = \\frac{A^{(k)}_{i,k}}{A^{(k)}_{k,k}}$. When $k = m-1$, $A^{(m)}_{i,j}$, is upper triangular, that is, $U_{i,j} = A^{(m)}_{i,j}$ . The lower triangular matrix is obtained using the multipliers $m_{i,k}$, that is $L_{i,j} = m_{i,j} \\ \\forall \\ i>j$,  $L_{i,i}=1$, and $L_{i,j}=0 \\ \\forall \\ i<j$. However, every $k$-step selects a pivot $A^{(k)}_{k,k}$ of maximum absolute value via row\n",
    "exchanges recorded in the permutation matrix $\\Pmtrx$ and column exchanges recorded in the permutation matrix $\\Qmtrx$."
   ]
  },
  {
   "cell_type": "code",
   "execution_count": 38,
   "metadata": {},
   "outputs": [
    {
     "name": "stdout",
     "output_type": "stream",
     "text": [
      "P =\n",
      " [[0. 0. 1.]\n",
      " [1. 0. 0.]\n",
      " [0. 1. 0.]]\n",
      "Q =\n",
      " [[0. 1. 0.]\n",
      " [0. 0. 1.]\n",
      " [1. 0. 0.]]\n",
      "L =\n",
      " [[1.  0.  0. ]\n",
      " [0.3 1.  0. ]\n",
      " [0.6 0.2 1. ]]\n",
      "U =\n",
      " [[10.   7.   8. ]\n",
      " [ 0.  -1.1 -0.4]\n",
      " [ 0.   0.   0.3]]\n",
      "\n",
      "Checking...\n",
      "LU - PAQ =\n",
      " [[0. 0. 0.]\n",
      " [0. 0. 0.]\n",
      " [0. 0. 0.]]\n"
     ]
    }
   ],
   "source": [
    "'''P Q L U factors of A'''\n",
    "\n",
    "a_mtrx = np.array( [[1., 2.,  3.],\n",
    "                    [4., 5.,  6.],\n",
    "                    [7., 8., 10.]] )\n",
    "\n",
    "try:    \n",
    "    from chen_3170.toolkit import lu_factorization   \n",
    "except ModuleNotFoundError:\n",
    "    assert False, 'You need to provide your own lu_factorization function here. Bailing out.'\n",
    "\n",
    "(p_mtrx, q_mtrx, l_mtrx, u_mtrx, _) = lu_factorization( a_mtrx, pivoting_option='complete' )\n",
    "\n",
    "print('P =\\n',p_mtrx)\n",
    "print('Q =\\n',q_mtrx)\n",
    "print('L =\\n',l_mtrx)\n",
    "print('U =\\n',u_mtrx)\n",
    "\n",
    "print('')\n",
    "print('Checking...')\n",
    "print('LU - PAQ =\\n', l_mtrx @ u_mtrx - p_mtrx @ a_mtrx @ q_mtrx)"
   ]
  },
  {
   "cell_type": "code",
   "execution_count": null,
   "metadata": {},
   "outputs": [],
   "source": []
  }
 ],
 "metadata": {
  "kernelspec": {
   "display_name": "Python 3",
   "language": "python",
   "name": "python3"
  },
  "language_info": {
   "codemirror_mode": {
    "name": "ipython",
    "version": 3
   },
   "file_extension": ".py",
   "mimetype": "text/x-python",
   "name": "python",
   "nbconvert_exporter": "python",
   "pygments_lexer": "ipython3",
   "version": "3.7.8"
  },
  "latex_envs": {
   "LaTeX_envs_menu_present": true,
   "autoclose": false,
   "autocomplete": true,
   "bibliofile": "biblio.bib",
   "cite_by": "apalike",
   "current_citInitial": 1,
   "eqLabelWithNumbers": true,
   "eqNumInitial": 1,
   "hotkeys": {
    "equation": "Ctrl-E",
    "itemize": "Ctrl-I"
   },
   "labels_anchors": false,
   "latex_user_defs": false,
   "report_style_numbering": false,
   "user_envs_cfg": false
  },
  "toc": {
   "base_numbering": 1,
   "nav_menu": {},
   "number_sections": true,
   "sideBar": true,
   "skip_h1_title": false,
   "title_cell": "Table of Contents",
   "title_sidebar": "Contents",
   "toc_cell": false,
   "toc_position": {},
   "toc_section_display": true,
   "toc_window_display": false
  }
 },
 "nbformat": 4,
 "nbformat_minor": 2
}
